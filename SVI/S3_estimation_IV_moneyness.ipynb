{
 "cells": [
  {
   "cell_type": "code",
   "execution_count": 1,
   "metadata": {},
   "outputs": [
    {
     "name": "stdout",
     "output_type": "stream",
     "text": [
      "Index(['Date', 'a', 'b', 'rho', 'm', 'sigma', 'a_ttm', 'b_ttm', 'rho_ttm',\n",
      "       'm_ttm', 'sigma_ttm'],\n",
      "      dtype='object')\n",
      "Interpolate IV for ttm 5.\n",
      "NaN values found in IV for IV_matrix_2017-11-25.csv.\n",
      "NaN values found in IV for IV_matrix_2018-03-09.csv.\n"
     ]
    },
    {
     "name": "stderr",
     "output_type": "stream",
     "text": [
      "C:\\Users\\Guti\\AppData\\Local\\Temp\\ipykernel_42152\\312718561.py:85: RuntimeWarning: invalid value encountered in sqrt\n",
      "  IV = np.sqrt(svi_model(theta, k_new, ttm) / ttm)\n",
      "C:\\Users\\Guti\\AppData\\Local\\Temp\\ipykernel_42152\\312718561.py:85: RuntimeWarning: invalid value encountered in sqrt\n",
      "  IV = np.sqrt(svi_model(theta, k_new, ttm) / ttm)\n"
     ]
    },
    {
     "name": "stdout",
     "output_type": "stream",
     "text": [
      "<pandas.core.strings.accessor.StringMethods object at 0x000001B9FAAF9070>\n",
      "Interpolate IV for ttm 9.\n",
      "<pandas.core.strings.accessor.StringMethods object at 0x000001B9FAA47590>\n",
      "Interpolate IV for ttm 14.\n",
      "<pandas.core.strings.accessor.StringMethods object at 0x000001B9FAA3FF50>\n",
      "Interpolate IV for ttm 27.\n",
      "NaN values found in IV for IV_matrix_2022-11-20.csv.\n",
      "<pandas.core.strings.accessor.StringMethods object at 0x000001B9FAA442F0>\n"
     ]
    },
    {
     "name": "stderr",
     "output_type": "stream",
     "text": [
      "C:\\Users\\Guti\\AppData\\Local\\Temp\\ipykernel_42152\\312718561.py:85: RuntimeWarning: invalid value encountered in sqrt\n",
      "  IV = np.sqrt(svi_model(theta, k_new, ttm) / ttm)\n"
     ]
    }
   ],
   "source": [
    "for name in list(globals()):\n",
    "    if not name.startswith('_'):\n",
    "        del globals()[name]\n",
    "\n",
    "\n",
    "import os\n",
    "import pandas as pd\n",
    "import numpy as np\n",
    "\n",
    "###############################################################################################################\n",
    "################START OF MAIN CODE###############################################################################\n",
    "###############################################################################################################\n",
    "\n",
    "\n",
    "# This code gets the implied volatility surface using the estimated SVI coefficients.\n",
    "# Some other stuff can be done when the cluster dates are used, but this is not of main interest in this code\n",
    "# and I do not remember what it was used for.\n",
    "\n",
    "# Path to read in the IV Matrix files for each day. Use the IR0 folder in the github.\n",
    "path=\"E:/share/SVI\"\n",
    "#path=\"/Users/ratmir/Downloads/testttm/IV_matrix_IR0\"\n",
    "\n",
    "os.chdir(path)\n",
    "\n",
    "#This is the input from the SVI estimation, that we got from estimate_SVI_coefficients_each_day.py:\n",
    "df1 = pd.read_csv('svi_iv_and_r2_results14b.csv')\n",
    "df2 = pd.read_csv('paras14b.csv')\n",
    "\n",
    "#C1 = pd.read_csv('dates_cluster1.csv')\n",
    "#C0 = pd.read_csv('dates_cluster0.csv')\n",
    "\n",
    "\n",
    "#these .pngs should be deleted\n",
    "# del_dates = df1[df1['R2'] < 0.97].iloc[:, 0]\n",
    "# folder_path = '/Users/ratmir/Desktop/Plots_IVs'  # Replace with the path to your folder containing the .png files\n",
    "# for entry in del_dates:\n",
    "#     # Extract the base name from the entry string (i.e., without .csv) and construct the .png filename\n",
    "#     base_name = entry.replace('.csv', '')\n",
    "#     png_filename = base_name + '_plot.png'\n",
    "#\n",
    "#     # Create the full path to the .png file\n",
    "#     full_path = os.path.join(folder_path, png_filename)\n",
    "#\n",
    "#     # Check if the file exists and then delete it\n",
    "#     if os.path.exists(full_path):\n",
    "#         os.remove(full_path)\n",
    "#         print(f\"Deleted {png_filename}\")\n",
    "#     else:\n",
    "#         print(f\"{png_filename} not found\")\n",
    "\n",
    "R2_threshold = 0.98\n",
    "df1 = df1[df1['R2'] >= R2_threshold] # 0.97; 761 remain # 0.98; 21 remain\n",
    "paras = df2.loc[df1.index]\n",
    "paras.columns.values[0] = 'Date'\n",
    "\n",
    "print(paras.columns)\n",
    "paras.columns = paras.columns.str.strip()\n",
    "\n",
    "def svi_model(theta, k, tau):\n",
    "    base_params = np.array(theta[:5])\n",
    "    ttm_coeffs = np.array(theta[5:])\n",
    "    a, b, rho, m, sigma = base_params + ttm_coeffs * tau\n",
    "    return a + b * (rho * (k - m) + np.sqrt((k - m) ** 2 + sigma ** 2))\n",
    "\n",
    "\n",
    "#You have to change the range of k_new, if you want to have a different range. Maybe this is what you want Zijin:\n",
    "k_new = np.linspace(-1, 1, 2001)\n",
    "all_IVs = pd.DataFrame()\n",
    "all_IVs_list = []\n",
    "#ttms = list(range(3, 41))\n",
    "# Set to other ttms, if you want to have the IVs for other ttms.\n",
    "ttms = list([5, 9, 14, 27])  # or 9 9 , or 14 14 or 27 27\n",
    "\n",
    "for ttm in ttms:\n",
    "    print(f\"Interpolate IV for ttm {ttm}.\")\n",
    "    all_IVs = pd.DataFrame()  # Initialize an empty DataFrame for the current ttm\n",
    "\n",
    "    for file in paras['Date']:\n",
    "\n",
    "        #extracting thetas\n",
    "        theta = paras.loc[paras['Date'] == file]\n",
    "        theta = theta.drop(theta.columns[0], axis=1)\n",
    "        theta = np.squeeze(theta.values)\n",
    "\n",
    "        IV = np.sqrt(svi_model(theta, k_new, ttm) / ttm)\n",
    "\n",
    "        # Assuming IV is a list or array, convert IV into a dictionary with column names\n",
    "        IV_dict = {str(k): [iv] for k, iv in zip(k_new, IV)}\n",
    "        IV_dict['Date'] = file\n",
    "\n",
    "        # Convert dictionary to DataFrame\n",
    "        IV_df = pd.DataFrame(IV_dict)\n",
    "\n",
    "        # Check for NaN values\n",
    "        if IV_df.isna().any().any():\n",
    "            print(f\"NaN values found in IV for {file}.\")\n",
    "            continue\n",
    "\n",
    "        # Ensure 'Date' is the first column\n",
    "        cols = ['Date'] + [col for col in IV_df if col != 'Date']\n",
    "        IV_df = IV_df[cols]\n",
    "\n",
    "        # Append to the main DataFrame\n",
    "        all_IVs = pd.concat([all_IVs, IV_df], ignore_index=True)\n",
    "\n",
    "    print(all_IVs['Date'].str)\n",
    "    all_IVs['Date'] = all_IVs['Date'].str.extract(r'(\\d{4}-\\d{2}-\\d{2})')\n",
    "    all_IVs.to_csv(f'IR0/moneyness/interpolated_IV{ttm}_098.csv', index=False)\n",
    "\n",
    "    all_IVs_list.append(all_IVs)\n",
    "\n",
    "\n"
   ]
  },
  {
   "cell_type": "code",
   "execution_count": 2,
   "metadata": {},
   "outputs": [
    {
     "name": "stdout",
     "output_type": "stream",
     "text": [
      "Index(['Date', 'a', 'b', 'rho', 'm', 'sigma', 'a_ttm', 'b_ttm', 'rho_ttm',\n",
      "       'm_ttm', 'sigma_ttm'],\n",
      "      dtype='object')\n",
      "Interpolate IV for ttm 5.\n",
      "NaN values found in IV for IV_matrix_2017-11-25.csv.\n"
     ]
    },
    {
     "name": "stderr",
     "output_type": "stream",
     "text": [
      "C:\\Users\\Guti\\AppData\\Local\\Temp\\ipykernel_42152\\1711478381.py:38: RuntimeWarning: invalid value encountered in sqrt\n",
      "  IV = np.sqrt(svi_model(theta, k_new, ttm) / ttm)\n",
      "C:\\Users\\Guti\\AppData\\Local\\Temp\\ipykernel_42152\\1711478381.py:38: RuntimeWarning: invalid value encountered in sqrt\n",
      "  IV = np.sqrt(svi_model(theta, k_new, ttm) / ttm)\n",
      "C:\\Users\\Guti\\AppData\\Local\\Temp\\ipykernel_42152\\1711478381.py:38: RuntimeWarning: invalid value encountered in sqrt\n",
      "  IV = np.sqrt(svi_model(theta, k_new, ttm) / ttm)\n"
     ]
    },
    {
     "name": "stdout",
     "output_type": "stream",
     "text": [
      "NaN values found in IV for IV_matrix_2018-03-09.csv.\n",
      "NaN values found in IV for IV_matrix_2018-05-24.csv.\n",
      "NaN values found in IV for IV_matrix_2018-05-25.csv.\n",
      "NaN values found in IV for IV_matrix_2018-06-08.csv.\n",
      "NaN values found in IV for IV_matrix_2018-07-25.csv.\n",
      "NaN values found in IV for IV_matrix_2018-08-01.csv.\n"
     ]
    },
    {
     "name": "stderr",
     "output_type": "stream",
     "text": [
      "C:\\Users\\Guti\\AppData\\Local\\Temp\\ipykernel_42152\\1711478381.py:38: RuntimeWarning: invalid value encountered in sqrt\n",
      "  IV = np.sqrt(svi_model(theta, k_new, ttm) / ttm)\n",
      "C:\\Users\\Guti\\AppData\\Local\\Temp\\ipykernel_42152\\1711478381.py:38: RuntimeWarning: invalid value encountered in sqrt\n",
      "  IV = np.sqrt(svi_model(theta, k_new, ttm) / ttm)\n",
      "C:\\Users\\Guti\\AppData\\Local\\Temp\\ipykernel_42152\\1711478381.py:38: RuntimeWarning: invalid value encountered in sqrt\n",
      "  IV = np.sqrt(svi_model(theta, k_new, ttm) / ttm)\n",
      "C:\\Users\\Guti\\AppData\\Local\\Temp\\ipykernel_42152\\1711478381.py:38: RuntimeWarning: invalid value encountered in sqrt\n",
      "  IV = np.sqrt(svi_model(theta, k_new, ttm) / ttm)\n",
      "C:\\Users\\Guti\\AppData\\Local\\Temp\\ipykernel_42152\\1711478381.py:38: RuntimeWarning: invalid value encountered in sqrt\n",
      "  IV = np.sqrt(svi_model(theta, k_new, ttm) / ttm)\n"
     ]
    },
    {
     "name": "stdout",
     "output_type": "stream",
     "text": [
      "NaN values found in IV for IV_matrix_2018-09-26.csv.\n",
      "NaN values found in IV for IV_matrix_2019-02-13.csv.\n"
     ]
    },
    {
     "name": "stderr",
     "output_type": "stream",
     "text": [
      "C:\\Users\\Guti\\AppData\\Local\\Temp\\ipykernel_42152\\1711478381.py:38: RuntimeWarning: invalid value encountered in sqrt\n",
      "  IV = np.sqrt(svi_model(theta, k_new, ttm) / ttm)\n",
      "C:\\Users\\Guti\\AppData\\Local\\Temp\\ipykernel_42152\\1711478381.py:38: RuntimeWarning: invalid value encountered in sqrt\n",
      "  IV = np.sqrt(svi_model(theta, k_new, ttm) / ttm)\n"
     ]
    },
    {
     "name": "stdout",
     "output_type": "stream",
     "text": [
      "NaN values found in IV for IV_matrix_2022-10-12.csv.\n",
      "<pandas.core.strings.accessor.StringMethods object at 0x000001B9FA9DAF90>\n",
      "Interpolate IV for ttm 9.\n"
     ]
    },
    {
     "name": "stderr",
     "output_type": "stream",
     "text": [
      "C:\\Users\\Guti\\AppData\\Local\\Temp\\ipykernel_42152\\1711478381.py:38: RuntimeWarning: invalid value encountered in sqrt\n",
      "  IV = np.sqrt(svi_model(theta, k_new, ttm) / ttm)\n",
      "C:\\Users\\Guti\\AppData\\Local\\Temp\\ipykernel_42152\\1711478381.py:38: RuntimeWarning: invalid value encountered in sqrt\n",
      "  IV = np.sqrt(svi_model(theta, k_new, ttm) / ttm)\n",
      "C:\\Users\\Guti\\AppData\\Local\\Temp\\ipykernel_42152\\1711478381.py:38: RuntimeWarning: invalid value encountered in sqrt\n",
      "  IV = np.sqrt(svi_model(theta, k_new, ttm) / ttm)\n"
     ]
    },
    {
     "name": "stdout",
     "output_type": "stream",
     "text": [
      "NaN values found in IV for IV_matrix_2018-07-25.csv.\n",
      "NaN values found in IV for IV_matrix_2018-08-01.csv.\n",
      "NaN values found in IV for IV_matrix_2018-09-26.csv.\n",
      "<pandas.core.strings.accessor.StringMethods object at 0x000001B9FAA3EE40>\n",
      "Interpolate IV for ttm 14.\n"
     ]
    },
    {
     "name": "stderr",
     "output_type": "stream",
     "text": [
      "C:\\Users\\Guti\\AppData\\Local\\Temp\\ipykernel_42152\\1711478381.py:38: RuntimeWarning: invalid value encountered in sqrt\n",
      "  IV = np.sqrt(svi_model(theta, k_new, ttm) / ttm)\n",
      "C:\\Users\\Guti\\AppData\\Local\\Temp\\ipykernel_42152\\1711478381.py:38: RuntimeWarning: invalid value encountered in sqrt\n",
      "  IV = np.sqrt(svi_model(theta, k_new, ttm) / ttm)\n",
      "C:\\Users\\Guti\\AppData\\Local\\Temp\\ipykernel_42152\\1711478381.py:38: RuntimeWarning: invalid value encountered in sqrt\n",
      "  IV = np.sqrt(svi_model(theta, k_new, ttm) / ttm)\n"
     ]
    },
    {
     "name": "stdout",
     "output_type": "stream",
     "text": [
      "NaN values found in IV for IV_matrix_2018-07-25.csv.\n",
      "NaN values found in IV for IV_matrix_2018-08-01.csv.\n",
      "NaN values found in IV for IV_matrix_2018-09-26.csv.\n",
      "<pandas.core.strings.accessor.StringMethods object at 0x000001B9FA9B5610>\n",
      "Interpolate IV for ttm 27.\n"
     ]
    },
    {
     "name": "stderr",
     "output_type": "stream",
     "text": [
      "C:\\Users\\Guti\\AppData\\Local\\Temp\\ipykernel_42152\\1711478381.py:38: RuntimeWarning: invalid value encountered in sqrt\n",
      "  IV = np.sqrt(svi_model(theta, k_new, ttm) / ttm)\n",
      "C:\\Users\\Guti\\AppData\\Local\\Temp\\ipykernel_42152\\1711478381.py:38: RuntimeWarning: invalid value encountered in sqrt\n",
      "  IV = np.sqrt(svi_model(theta, k_new, ttm) / ttm)\n"
     ]
    },
    {
     "name": "stdout",
     "output_type": "stream",
     "text": [
      "NaN values found in IV for IV_matrix_2022-11-20.csv.\n",
      "NaN values found in IV for IV_matrix_2022-11-28.csv.\n",
      "<pandas.core.strings.accessor.StringMethods object at 0x000001B9FAB2AB70>\n"
     ]
    }
   ],
   "source": [
    "R2_threshold = 0.95\n",
    "\n",
    "df1 = pd.read_csv('svi_iv_and_r2_results14b.csv')\n",
    "df2 = pd.read_csv('paras14b.csv')\n",
    "df1 = df1[df1['R2'] >= R2_threshold] # 0.97; 761 remain # 0.98; 21 remain\n",
    "paras = df2.loc[df1.index]\n",
    "paras.columns.values[0] = 'Date'\n",
    "\n",
    "print(paras.columns)\n",
    "paras.columns = paras.columns.str.strip()\n",
    "\n",
    "def svi_model(theta, k, tau):\n",
    "    base_params = np.array(theta[:5])\n",
    "    ttm_coeffs = np.array(theta[5:])\n",
    "    a, b, rho, m, sigma = base_params + ttm_coeffs * tau\n",
    "    return a + b * (rho * (k - m) + np.sqrt((k - m) ** 2 + sigma ** 2))\n",
    "\n",
    "\n",
    "#You have to change the range of k_new, if you want to have a different range. Maybe this is what you want Zijin:\n",
    "k_new = np.linspace(-1, 1, 2001)\n",
    "all_IVs = pd.DataFrame()\n",
    "all_IVs_list = []\n",
    "#ttms = list(range(3, 41))\n",
    "# Set to other ttms, if you want to have the IVs for other ttms.\n",
    "ttms = list([5, 9, 14, 27])  # or 9 9 , or 14 14 or 27 27\n",
    "\n",
    "for ttm in ttms:\n",
    "    print(f\"Interpolate IV for ttm {ttm}.\")\n",
    "    all_IVs = pd.DataFrame()  # Initialize an empty DataFrame for the current ttm\n",
    "\n",
    "    for file in paras['Date']:\n",
    "\n",
    "        #extracting thetas\n",
    "        theta = paras.loc[paras['Date'] == file]\n",
    "        theta = theta.drop(theta.columns[0], axis=1)\n",
    "        theta = np.squeeze(theta.values)\n",
    "\n",
    "        IV = np.sqrt(svi_model(theta, k_new, ttm) / ttm)\n",
    "\n",
    "        # Assuming IV is a list or array, convert IV into a dictionary with column names\n",
    "        IV_dict = {str(k): [iv] for k, iv in zip(k_new, IV)}\n",
    "        IV_dict['Date'] = file\n",
    "\n",
    "        # Convert dictionary to DataFrame\n",
    "        IV_df = pd.DataFrame(IV_dict)\n",
    "\n",
    "        # Check for NaN values\n",
    "        if IV_df.isna().any().any():\n",
    "            print(f\"NaN values found in IV for {file}.\")\n",
    "            continue\n",
    "\n",
    "        # Ensure 'Date' is the first column\n",
    "        cols = ['Date'] + [col for col in IV_df if col != 'Date']\n",
    "        IV_df = IV_df[cols]\n",
    "\n",
    "        # Append to the main DataFrame\n",
    "        all_IVs = pd.concat([all_IVs, IV_df], ignore_index=True)\n",
    "\n",
    "    print(all_IVs['Date'].str)\n",
    "    all_IVs['Date'] = all_IVs['Date'].str.extract(r'(\\d{4}-\\d{2}-\\d{2})')\n",
    "    all_IVs.to_csv(f'IR0/moneyness/interpolated_IV{ttm}_095.csv', index=False)\n",
    "\n",
    "    all_IVs_list.append(all_IVs)"
   ]
  },
  {
   "cell_type": "code",
   "execution_count": 3,
   "metadata": {},
   "outputs": [
    {
     "name": "stdout",
     "output_type": "stream",
     "text": [
      "Index(['Date', 'a', 'b', 'rho', 'm', 'sigma', 'a_ttm', 'b_ttm', 'rho_ttm',\n",
      "       'm_ttm', 'sigma_ttm'],\n",
      "      dtype='object')\n",
      "Interpolate IV for ttm 5.\n",
      "NaN values found in IV for IV_matrix_2017-08-14.csv.\n"
     ]
    },
    {
     "name": "stderr",
     "output_type": "stream",
     "text": [
      "C:\\Users\\Guti\\AppData\\Local\\Temp\\ipykernel_42152\\832053914.py:38: RuntimeWarning: invalid value encountered in sqrt\n",
      "  IV = np.sqrt(svi_model(theta, k_new, ttm) / ttm)\n",
      "C:\\Users\\Guti\\AppData\\Local\\Temp\\ipykernel_42152\\832053914.py:38: RuntimeWarning: invalid value encountered in sqrt\n",
      "  IV = np.sqrt(svi_model(theta, k_new, ttm) / ttm)\n"
     ]
    },
    {
     "name": "stdout",
     "output_type": "stream",
     "text": [
      "NaN values found in IV for IV_matrix_2017-11-25.csv.\n",
      "NaN values found in IV for IV_matrix_2017-12-02.csv.\n"
     ]
    },
    {
     "name": "stderr",
     "output_type": "stream",
     "text": [
      "C:\\Users\\Guti\\AppData\\Local\\Temp\\ipykernel_42152\\832053914.py:38: RuntimeWarning: invalid value encountered in sqrt\n",
      "  IV = np.sqrt(svi_model(theta, k_new, ttm) / ttm)\n",
      "C:\\Users\\Guti\\AppData\\Local\\Temp\\ipykernel_42152\\832053914.py:38: RuntimeWarning: invalid value encountered in sqrt\n",
      "  IV = np.sqrt(svi_model(theta, k_new, ttm) / ttm)\n"
     ]
    },
    {
     "name": "stdout",
     "output_type": "stream",
     "text": [
      "NaN values found in IV for IV_matrix_2018-03-09.csv.\n"
     ]
    },
    {
     "name": "stderr",
     "output_type": "stream",
     "text": [
      "C:\\Users\\Guti\\AppData\\Local\\Temp\\ipykernel_42152\\832053914.py:38: RuntimeWarning: invalid value encountered in sqrt\n",
      "  IV = np.sqrt(svi_model(theta, k_new, ttm) / ttm)\n",
      "C:\\Users\\Guti\\AppData\\Local\\Temp\\ipykernel_42152\\832053914.py:38: RuntimeWarning: invalid value encountered in sqrt\n",
      "  IV = np.sqrt(svi_model(theta, k_new, ttm) / ttm)\n",
      "C:\\Users\\Guti\\AppData\\Local\\Temp\\ipykernel_42152\\832053914.py:38: RuntimeWarning: invalid value encountered in sqrt\n",
      "  IV = np.sqrt(svi_model(theta, k_new, ttm) / ttm)\n",
      "C:\\Users\\Guti\\AppData\\Local\\Temp\\ipykernel_42152\\832053914.py:38: RuntimeWarning: invalid value encountered in sqrt\n",
      "  IV = np.sqrt(svi_model(theta, k_new, ttm) / ttm)\n"
     ]
    },
    {
     "name": "stdout",
     "output_type": "stream",
     "text": [
      "NaN values found in IV for IV_matrix_2018-05-24.csv.\n",
      "NaN values found in IV for IV_matrix_2018-05-25.csv.\n",
      "NaN values found in IV for IV_matrix_2018-06-08.csv.\n",
      "NaN values found in IV for IV_matrix_2018-07-25.csv.\n",
      "NaN values found in IV for IV_matrix_2018-08-01.csv.\n",
      "NaN values found in IV for IV_matrix_2018-08-15.csv.\n",
      "NaN values found in IV for IV_matrix_2018-09-26.csv.\n",
      "NaN values found in IV for IV_matrix_2018-10-03.csv.\n"
     ]
    },
    {
     "name": "stderr",
     "output_type": "stream",
     "text": [
      "C:\\Users\\Guti\\AppData\\Local\\Temp\\ipykernel_42152\\832053914.py:38: RuntimeWarning: invalid value encountered in sqrt\n",
      "  IV = np.sqrt(svi_model(theta, k_new, ttm) / ttm)\n",
      "C:\\Users\\Guti\\AppData\\Local\\Temp\\ipykernel_42152\\832053914.py:38: RuntimeWarning: invalid value encountered in sqrt\n",
      "  IV = np.sqrt(svi_model(theta, k_new, ttm) / ttm)\n",
      "C:\\Users\\Guti\\AppData\\Local\\Temp\\ipykernel_42152\\832053914.py:38: RuntimeWarning: invalid value encountered in sqrt\n",
      "  IV = np.sqrt(svi_model(theta, k_new, ttm) / ttm)\n",
      "C:\\Users\\Guti\\AppData\\Local\\Temp\\ipykernel_42152\\832053914.py:38: RuntimeWarning: invalid value encountered in sqrt\n",
      "  IV = np.sqrt(svi_model(theta, k_new, ttm) / ttm)\n",
      "C:\\Users\\Guti\\AppData\\Local\\Temp\\ipykernel_42152\\832053914.py:38: RuntimeWarning: invalid value encountered in sqrt\n",
      "  IV = np.sqrt(svi_model(theta, k_new, ttm) / ttm)\n"
     ]
    },
    {
     "name": "stdout",
     "output_type": "stream",
     "text": [
      "NaN values found in IV for IV_matrix_2018-10-31.csv.\n",
      "NaN values found in IV for IV_matrix_2018-11-07.csv.\n"
     ]
    },
    {
     "name": "stderr",
     "output_type": "stream",
     "text": [
      "C:\\Users\\Guti\\AppData\\Local\\Temp\\ipykernel_42152\\832053914.py:38: RuntimeWarning: invalid value encountered in sqrt\n",
      "  IV = np.sqrt(svi_model(theta, k_new, ttm) / ttm)\n",
      "C:\\Users\\Guti\\AppData\\Local\\Temp\\ipykernel_42152\\832053914.py:38: RuntimeWarning: invalid value encountered in sqrt\n",
      "  IV = np.sqrt(svi_model(theta, k_new, ttm) / ttm)\n"
     ]
    },
    {
     "name": "stdout",
     "output_type": "stream",
     "text": [
      "NaN values found in IV for IV_matrix_2019-02-13.csv.\n"
     ]
    },
    {
     "name": "stderr",
     "output_type": "stream",
     "text": [
      "C:\\Users\\Guti\\AppData\\Local\\Temp\\ipykernel_42152\\832053914.py:38: RuntimeWarning: invalid value encountered in sqrt\n",
      "  IV = np.sqrt(svi_model(theta, k_new, ttm) / ttm)\n",
      "C:\\Users\\Guti\\AppData\\Local\\Temp\\ipykernel_42152\\832053914.py:38: RuntimeWarning: invalid value encountered in sqrt\n",
      "  IV = np.sqrt(svi_model(theta, k_new, ttm) / ttm)\n"
     ]
    },
    {
     "name": "stdout",
     "output_type": "stream",
     "text": [
      "NaN values found in IV for IV_matrix_2019-09-04.csv.\n",
      "NaN values found in IV for IV_matrix_2020-02-26.csv.\n"
     ]
    },
    {
     "name": "stderr",
     "output_type": "stream",
     "text": [
      "C:\\Users\\Guti\\AppData\\Local\\Temp\\ipykernel_42152\\832053914.py:38: RuntimeWarning: invalid value encountered in sqrt\n",
      "  IV = np.sqrt(svi_model(theta, k_new, ttm) / ttm)\n"
     ]
    },
    {
     "name": "stdout",
     "output_type": "stream",
     "text": [
      "NaN values found in IV for IV_matrix_2022-10-12.csv.\n",
      "<pandas.core.strings.accessor.StringMethods object at 0x000001B9FAB44680>\n",
      "Interpolate IV for ttm 9.\n"
     ]
    },
    {
     "name": "stderr",
     "output_type": "stream",
     "text": [
      "C:\\Users\\Guti\\AppData\\Local\\Temp\\ipykernel_42152\\832053914.py:38: RuntimeWarning: invalid value encountered in sqrt\n",
      "  IV = np.sqrt(svi_model(theta, k_new, ttm) / ttm)\n",
      "C:\\Users\\Guti\\AppData\\Local\\Temp\\ipykernel_42152\\832053914.py:38: RuntimeWarning: invalid value encountered in sqrt\n",
      "  IV = np.sqrt(svi_model(theta, k_new, ttm) / ttm)\n",
      "C:\\Users\\Guti\\AppData\\Local\\Temp\\ipykernel_42152\\832053914.py:38: RuntimeWarning: invalid value encountered in sqrt\n",
      "  IV = np.sqrt(svi_model(theta, k_new, ttm) / ttm)\n",
      "C:\\Users\\Guti\\AppData\\Local\\Temp\\ipykernel_42152\\832053914.py:38: RuntimeWarning: invalid value encountered in sqrt\n",
      "  IV = np.sqrt(svi_model(theta, k_new, ttm) / ttm)\n"
     ]
    },
    {
     "name": "stdout",
     "output_type": "stream",
     "text": [
      "NaN values found in IV for IV_matrix_2018-07-25.csv.\n",
      "NaN values found in IV for IV_matrix_2018-08-01.csv.\n",
      "NaN values found in IV for IV_matrix_2018-09-26.csv.\n",
      "NaN values found in IV for IV_matrix_2018-10-03.csv.\n"
     ]
    },
    {
     "name": "stderr",
     "output_type": "stream",
     "text": [
      "C:\\Users\\Guti\\AppData\\Local\\Temp\\ipykernel_42152\\832053914.py:38: RuntimeWarning: invalid value encountered in sqrt\n",
      "  IV = np.sqrt(svi_model(theta, k_new, ttm) / ttm)\n",
      "C:\\Users\\Guti\\AppData\\Local\\Temp\\ipykernel_42152\\832053914.py:38: RuntimeWarning: invalid value encountered in sqrt\n",
      "  IV = np.sqrt(svi_model(theta, k_new, ttm) / ttm)\n"
     ]
    },
    {
     "name": "stdout",
     "output_type": "stream",
     "text": [
      "NaN values found in IV for IV_matrix_2018-10-31.csv.\n",
      "NaN values found in IV for IV_matrix_2018-11-07.csv.\n",
      "<pandas.core.strings.accessor.StringMethods object at 0x000001B9FAB47680>\n",
      "Interpolate IV for ttm 14.\n"
     ]
    },
    {
     "name": "stderr",
     "output_type": "stream",
     "text": [
      "C:\\Users\\Guti\\AppData\\Local\\Temp\\ipykernel_42152\\832053914.py:38: RuntimeWarning: invalid value encountered in sqrt\n",
      "  IV = np.sqrt(svi_model(theta, k_new, ttm) / ttm)\n",
      "C:\\Users\\Guti\\AppData\\Local\\Temp\\ipykernel_42152\\832053914.py:38: RuntimeWarning: invalid value encountered in sqrt\n",
      "  IV = np.sqrt(svi_model(theta, k_new, ttm) / ttm)\n",
      "C:\\Users\\Guti\\AppData\\Local\\Temp\\ipykernel_42152\\832053914.py:38: RuntimeWarning: invalid value encountered in sqrt\n",
      "  IV = np.sqrt(svi_model(theta, k_new, ttm) / ttm)\n",
      "C:\\Users\\Guti\\AppData\\Local\\Temp\\ipykernel_42152\\832053914.py:38: RuntimeWarning: invalid value encountered in sqrt\n",
      "  IV = np.sqrt(svi_model(theta, k_new, ttm) / ttm)\n",
      "C:\\Users\\Guti\\AppData\\Local\\Temp\\ipykernel_42152\\832053914.py:38: RuntimeWarning: invalid value encountered in sqrt\n",
      "  IV = np.sqrt(svi_model(theta, k_new, ttm) / ttm)\n"
     ]
    },
    {
     "name": "stdout",
     "output_type": "stream",
     "text": [
      "NaN values found in IV for IV_matrix_2018-07-25.csv.\n",
      "NaN values found in IV for IV_matrix_2018-08-01.csv.\n",
      "NaN values found in IV for IV_matrix_2018-09-26.csv.\n",
      "NaN values found in IV for IV_matrix_2018-10-03.csv.\n",
      "NaN values found in IV for IV_matrix_2018-10-31.csv.\n",
      "NaN values found in IV for IV_matrix_2018-11-07.csv.\n"
     ]
    },
    {
     "name": "stderr",
     "output_type": "stream",
     "text": [
      "C:\\Users\\Guti\\AppData\\Local\\Temp\\ipykernel_42152\\832053914.py:38: RuntimeWarning: invalid value encountered in sqrt\n",
      "  IV = np.sqrt(svi_model(theta, k_new, ttm) / ttm)\n"
     ]
    },
    {
     "name": "stdout",
     "output_type": "stream",
     "text": [
      "<pandas.core.strings.accessor.StringMethods object at 0x000001B9FAB9A600>\n",
      "Interpolate IV for ttm 27.\n"
     ]
    },
    {
     "name": "stderr",
     "output_type": "stream",
     "text": [
      "C:\\Users\\Guti\\AppData\\Local\\Temp\\ipykernel_42152\\832053914.py:38: RuntimeWarning: invalid value encountered in sqrt\n",
      "  IV = np.sqrt(svi_model(theta, k_new, ttm) / ttm)\n",
      "C:\\Users\\Guti\\AppData\\Local\\Temp\\ipykernel_42152\\832053914.py:38: RuntimeWarning: invalid value encountered in sqrt\n",
      "  IV = np.sqrt(svi_model(theta, k_new, ttm) / ttm)\n",
      "C:\\Users\\Guti\\AppData\\Local\\Temp\\ipykernel_42152\\832053914.py:38: RuntimeWarning: invalid value encountered in sqrt\n",
      "  IV = np.sqrt(svi_model(theta, k_new, ttm) / ttm)\n",
      "C:\\Users\\Guti\\AppData\\Local\\Temp\\ipykernel_42152\\832053914.py:38: RuntimeWarning: invalid value encountered in sqrt\n",
      "  IV = np.sqrt(svi_model(theta, k_new, ttm) / ttm)\n"
     ]
    },
    {
     "name": "stdout",
     "output_type": "stream",
     "text": [
      "NaN values found in IV for IV_matrix_2022-11-10.csv.\n",
      "NaN values found in IV for IV_matrix_2022-11-13.csv.\n",
      "NaN values found in IV for IV_matrix_2022-11-14.csv.\n",
      "NaN values found in IV for IV_matrix_2022-11-15.csv.\n"
     ]
    },
    {
     "name": "stderr",
     "output_type": "stream",
     "text": [
      "C:\\Users\\Guti\\AppData\\Local\\Temp\\ipykernel_42152\\832053914.py:38: RuntimeWarning: invalid value encountered in sqrt\n",
      "  IV = np.sqrt(svi_model(theta, k_new, ttm) / ttm)\n",
      "C:\\Users\\Guti\\AppData\\Local\\Temp\\ipykernel_42152\\832053914.py:38: RuntimeWarning: invalid value encountered in sqrt\n",
      "  IV = np.sqrt(svi_model(theta, k_new, ttm) / ttm)\n",
      "C:\\Users\\Guti\\AppData\\Local\\Temp\\ipykernel_42152\\832053914.py:38: RuntimeWarning: invalid value encountered in sqrt\n",
      "  IV = np.sqrt(svi_model(theta, k_new, ttm) / ttm)\n"
     ]
    },
    {
     "name": "stdout",
     "output_type": "stream",
     "text": [
      "NaN values found in IV for IV_matrix_2022-11-20.csv.\n",
      "NaN values found in IV for IV_matrix_2022-11-22.csv.\n",
      "NaN values found in IV for IV_matrix_2022-11-28.csv.\n",
      "<pandas.core.strings.accessor.StringMethods object at 0x000001B9FA9B6DE0>\n"
     ]
    }
   ],
   "source": [
    "R2_threshold = 0.9\n",
    "\n",
    "df1 = pd.read_csv('svi_iv_and_r2_results14b.csv')\n",
    "df2 = pd.read_csv('paras14b.csv')\n",
    "df1 = df1[df1['R2'] >= R2_threshold] # 0.97; 761 remain # 0.98; 21 remain\n",
    "paras = df2.loc[df1.index]\n",
    "paras.columns.values[0] = 'Date'\n",
    "\n",
    "print(paras.columns)\n",
    "paras.columns = paras.columns.str.strip()\n",
    "\n",
    "def svi_model(theta, k, tau):\n",
    "    base_params = np.array(theta[:5])\n",
    "    ttm_coeffs = np.array(theta[5:])\n",
    "    a, b, rho, m, sigma = base_params + ttm_coeffs * tau\n",
    "    return a + b * (rho * (k - m) + np.sqrt((k - m) ** 2 + sigma ** 2))\n",
    "\n",
    "\n",
    "#You have to change the range of k_new, if you want to have a different range. Maybe this is what you want Zijin:\n",
    "k_new = np.linspace(-1, 1, 2001)\n",
    "all_IVs = pd.DataFrame()\n",
    "all_IVs_list = []\n",
    "#ttms = list(range(3, 41))\n",
    "# Set to other ttms, if you want to have the IVs for other ttms.\n",
    "ttms = list([5, 9, 14, 27])  # or 9 9 , or 14 14 or 27 27\n",
    "\n",
    "for ttm in ttms:\n",
    "    print(f\"Interpolate IV for ttm {ttm}.\")\n",
    "    all_IVs = pd.DataFrame()  # Initialize an empty DataFrame for the current ttm\n",
    "\n",
    "    for file in paras['Date']:\n",
    "\n",
    "        #extracting thetas\n",
    "        theta = paras.loc[paras['Date'] == file]\n",
    "        theta = theta.drop(theta.columns[0], axis=1)\n",
    "        theta = np.squeeze(theta.values)\n",
    "\n",
    "        IV = np.sqrt(svi_model(theta, k_new, ttm) / ttm)\n",
    "\n",
    "        # Assuming IV is a list or array, convert IV into a dictionary with column names\n",
    "        IV_dict = {str(k): [iv] for k, iv in zip(k_new, IV)}\n",
    "        IV_dict['Date'] = file\n",
    "\n",
    "        # Convert dictionary to DataFrame\n",
    "        IV_df = pd.DataFrame(IV_dict)\n",
    "\n",
    "        # Check for NaN values\n",
    "        if IV_df.isna().any().any():\n",
    "            print(f\"NaN values found in IV for {file}.\")\n",
    "            continue\n",
    "\n",
    "        # Ensure 'Date' is the first column\n",
    "        cols = ['Date'] + [col for col in IV_df if col != 'Date']\n",
    "        IV_df = IV_df[cols]\n",
    "\n",
    "        # Append to the main DataFrame\n",
    "        all_IVs = pd.concat([all_IVs, IV_df], ignore_index=True)\n",
    "\n",
    "    print(all_IVs['Date'].str)\n",
    "    all_IVs['Date'] = all_IVs['Date'].str.extract(r'(\\d{4}-\\d{2}-\\d{2})')\n",
    "    all_IVs.to_csv(f'IR0/moneyness/interpolated_IV{ttm}_090.csv', index=False)\n",
    "\n",
    "    all_IVs_list.append(all_IVs)\n"
   ]
  },
  {
   "cell_type": "code",
   "execution_count": 4,
   "metadata": {},
   "outputs": [
    {
     "name": "stdout",
     "output_type": "stream",
     "text": [
      "Index(['Date', 'a', 'b', 'rho', 'm', 'sigma', 'a_ttm', 'b_ttm', 'rho_ttm',\n",
      "       'm_ttm', 'sigma_ttm'],\n",
      "      dtype='object')\n",
      "Interpolate IV for ttm 5.\n",
      "NaN values found in IV for IV_matrix_2017-08-14.csv.\n"
     ]
    },
    {
     "name": "stderr",
     "output_type": "stream",
     "text": [
      "C:\\Users\\Guti\\AppData\\Local\\Temp\\ipykernel_42152\\840179055.py:38: RuntimeWarning: invalid value encountered in sqrt\n",
      "  IV = np.sqrt(svi_model(theta, k_new, ttm) / ttm)\n",
      "C:\\Users\\Guti\\AppData\\Local\\Temp\\ipykernel_42152\\840179055.py:38: RuntimeWarning: invalid value encountered in sqrt\n",
      "  IV = np.sqrt(svi_model(theta, k_new, ttm) / ttm)\n",
      "C:\\Users\\Guti\\AppData\\Local\\Temp\\ipykernel_42152\\840179055.py:38: RuntimeWarning: invalid value encountered in sqrt\n",
      "  IV = np.sqrt(svi_model(theta, k_new, ttm) / ttm)\n",
      "C:\\Users\\Guti\\AppData\\Local\\Temp\\ipykernel_42152\\840179055.py:38: RuntimeWarning: invalid value encountered in sqrt\n",
      "  IV = np.sqrt(svi_model(theta, k_new, ttm) / ttm)\n"
     ]
    },
    {
     "name": "stdout",
     "output_type": "stream",
     "text": [
      "NaN values found in IV for IV_matrix_2017-11-25.csv.\n",
      "NaN values found in IV for IV_matrix_2017-12-02.csv.\n",
      "NaN values found in IV for IV_matrix_2017-12-08.csv.\n"
     ]
    },
    {
     "name": "stderr",
     "output_type": "stream",
     "text": [
      "C:\\Users\\Guti\\AppData\\Local\\Temp\\ipykernel_42152\\840179055.py:38: RuntimeWarning: invalid value encountered in sqrt\n",
      "  IV = np.sqrt(svi_model(theta, k_new, ttm) / ttm)\n"
     ]
    },
    {
     "name": "stdout",
     "output_type": "stream",
     "text": [
      "NaN values found in IV for IV_matrix_2017-12-15.csv.\n"
     ]
    },
    {
     "name": "stderr",
     "output_type": "stream",
     "text": [
      "C:\\Users\\Guti\\AppData\\Local\\Temp\\ipykernel_42152\\840179055.py:38: RuntimeWarning: invalid value encountered in sqrt\n",
      "  IV = np.sqrt(svi_model(theta, k_new, ttm) / ttm)\n"
     ]
    },
    {
     "name": "stdout",
     "output_type": "stream",
     "text": [
      "NaN values found in IV for IV_matrix_2018-03-09.csv.\n"
     ]
    },
    {
     "name": "stderr",
     "output_type": "stream",
     "text": [
      "C:\\Users\\Guti\\AppData\\Local\\Temp\\ipykernel_42152\\840179055.py:38: RuntimeWarning: invalid value encountered in sqrt\n",
      "  IV = np.sqrt(svi_model(theta, k_new, ttm) / ttm)\n",
      "C:\\Users\\Guti\\AppData\\Local\\Temp\\ipykernel_42152\\840179055.py:38: RuntimeWarning: invalid value encountered in sqrt\n",
      "  IV = np.sqrt(svi_model(theta, k_new, ttm) / ttm)\n",
      "C:\\Users\\Guti\\AppData\\Local\\Temp\\ipykernel_42152\\840179055.py:38: RuntimeWarning: invalid value encountered in sqrt\n",
      "  IV = np.sqrt(svi_model(theta, k_new, ttm) / ttm)\n",
      "C:\\Users\\Guti\\AppData\\Local\\Temp\\ipykernel_42152\\840179055.py:38: RuntimeWarning: invalid value encountered in sqrt\n",
      "  IV = np.sqrt(svi_model(theta, k_new, ttm) / ttm)\n"
     ]
    },
    {
     "name": "stdout",
     "output_type": "stream",
     "text": [
      "NaN values found in IV for IV_matrix_2018-05-03.csv.\n",
      "NaN values found in IV for IV_matrix_2018-05-16.csv.\n",
      "NaN values found in IV for IV_matrix_2018-05-24.csv.\n",
      "NaN values found in IV for IV_matrix_2018-05-25.csv.\n"
     ]
    },
    {
     "name": "stderr",
     "output_type": "stream",
     "text": [
      "C:\\Users\\Guti\\AppData\\Local\\Temp\\ipykernel_42152\\840179055.py:38: RuntimeWarning: invalid value encountered in sqrt\n",
      "  IV = np.sqrt(svi_model(theta, k_new, ttm) / ttm)\n"
     ]
    },
    {
     "name": "stdout",
     "output_type": "stream",
     "text": [
      "NaN values found in IV for IV_matrix_2018-06-08.csv.\n"
     ]
    },
    {
     "name": "stderr",
     "output_type": "stream",
     "text": [
      "C:\\Users\\Guti\\AppData\\Local\\Temp\\ipykernel_42152\\840179055.py:38: RuntimeWarning: invalid value encountered in sqrt\n",
      "  IV = np.sqrt(svi_model(theta, k_new, ttm) / ttm)\n",
      "C:\\Users\\Guti\\AppData\\Local\\Temp\\ipykernel_42152\\840179055.py:38: RuntimeWarning: invalid value encountered in sqrt\n",
      "  IV = np.sqrt(svi_model(theta, k_new, ttm) / ttm)\n",
      "C:\\Users\\Guti\\AppData\\Local\\Temp\\ipykernel_42152\\840179055.py:38: RuntimeWarning: invalid value encountered in sqrt\n",
      "  IV = np.sqrt(svi_model(theta, k_new, ttm) / ttm)\n"
     ]
    },
    {
     "name": "stdout",
     "output_type": "stream",
     "text": [
      "NaN values found in IV for IV_matrix_2018-07-25.csv.\n",
      "NaN values found in IV for IV_matrix_2018-08-01.csv.\n",
      "NaN values found in IV for IV_matrix_2018-08-15.csv.\n"
     ]
    },
    {
     "name": "stderr",
     "output_type": "stream",
     "text": [
      "C:\\Users\\Guti\\AppData\\Local\\Temp\\ipykernel_42152\\840179055.py:38: RuntimeWarning: invalid value encountered in sqrt\n",
      "  IV = np.sqrt(svi_model(theta, k_new, ttm) / ttm)\n",
      "C:\\Users\\Guti\\AppData\\Local\\Temp\\ipykernel_42152\\840179055.py:38: RuntimeWarning: invalid value encountered in sqrt\n",
      "  IV = np.sqrt(svi_model(theta, k_new, ttm) / ttm)\n",
      "C:\\Users\\Guti\\AppData\\Local\\Temp\\ipykernel_42152\\840179055.py:38: RuntimeWarning: invalid value encountered in sqrt\n",
      "  IV = np.sqrt(svi_model(theta, k_new, ttm) / ttm)\n",
      "C:\\Users\\Guti\\AppData\\Local\\Temp\\ipykernel_42152\\840179055.py:38: RuntimeWarning: invalid value encountered in sqrt\n",
      "  IV = np.sqrt(svi_model(theta, k_new, ttm) / ttm)\n",
      "C:\\Users\\Guti\\AppData\\Local\\Temp\\ipykernel_42152\\840179055.py:38: RuntimeWarning: invalid value encountered in sqrt\n",
      "  IV = np.sqrt(svi_model(theta, k_new, ttm) / ttm)\n",
      "C:\\Users\\Guti\\AppData\\Local\\Temp\\ipykernel_42152\\840179055.py:38: RuntimeWarning: invalid value encountered in sqrt\n",
      "  IV = np.sqrt(svi_model(theta, k_new, ttm) / ttm)\n"
     ]
    },
    {
     "name": "stdout",
     "output_type": "stream",
     "text": [
      "NaN values found in IV for IV_matrix_2018-09-26.csv.\n",
      "NaN values found in IV for IV_matrix_2018-09-27.csv.\n",
      "NaN values found in IV for IV_matrix_2018-10-03.csv.\n",
      "NaN values found in IV for IV_matrix_2018-10-11.csv.\n",
      "NaN values found in IV for IV_matrix_2018-10-31.csv.\n",
      "NaN values found in IV for IV_matrix_2018-11-07.csv.\n"
     ]
    },
    {
     "name": "stderr",
     "output_type": "stream",
     "text": [
      "C:\\Users\\Guti\\AppData\\Local\\Temp\\ipykernel_42152\\840179055.py:38: RuntimeWarning: invalid value encountered in sqrt\n",
      "  IV = np.sqrt(svi_model(theta, k_new, ttm) / ttm)\n"
     ]
    },
    {
     "name": "stdout",
     "output_type": "stream",
     "text": [
      "NaN values found in IV for IV_matrix_2019-02-13.csv.\n"
     ]
    },
    {
     "name": "stderr",
     "output_type": "stream",
     "text": [
      "C:\\Users\\Guti\\AppData\\Local\\Temp\\ipykernel_42152\\840179055.py:38: RuntimeWarning: invalid value encountered in sqrt\n",
      "  IV = np.sqrt(svi_model(theta, k_new, ttm) / ttm)\n",
      "C:\\Users\\Guti\\AppData\\Local\\Temp\\ipykernel_42152\\840179055.py:38: RuntimeWarning: invalid value encountered in sqrt\n",
      "  IV = np.sqrt(svi_model(theta, k_new, ttm) / ttm)\n"
     ]
    },
    {
     "name": "stdout",
     "output_type": "stream",
     "text": [
      "NaN values found in IV for IV_matrix_2019-09-04.csv.\n",
      "NaN values found in IV for IV_matrix_2020-02-26.csv.\n"
     ]
    },
    {
     "name": "stderr",
     "output_type": "stream",
     "text": [
      "C:\\Users\\Guti\\AppData\\Local\\Temp\\ipykernel_42152\\840179055.py:38: RuntimeWarning: invalid value encountered in sqrt\n",
      "  IV = np.sqrt(svi_model(theta, k_new, ttm) / ttm)\n"
     ]
    },
    {
     "name": "stdout",
     "output_type": "stream",
     "text": [
      "NaN values found in IV for IV_matrix_2022-10-12.csv.\n",
      "<pandas.core.strings.accessor.StringMethods object at 0x000001B9FAA13FB0>\n",
      "Interpolate IV for ttm 9.\n"
     ]
    },
    {
     "name": "stderr",
     "output_type": "stream",
     "text": [
      "C:\\Users\\Guti\\AppData\\Local\\Temp\\ipykernel_42152\\840179055.py:38: RuntimeWarning: invalid value encountered in sqrt\n",
      "  IV = np.sqrt(svi_model(theta, k_new, ttm) / ttm)\n"
     ]
    },
    {
     "name": "stdout",
     "output_type": "stream",
     "text": [
      "NaN values found in IV for IV_matrix_2017-08-29.csv.\n"
     ]
    },
    {
     "name": "stderr",
     "output_type": "stream",
     "text": [
      "C:\\Users\\Guti\\AppData\\Local\\Temp\\ipykernel_42152\\840179055.py:38: RuntimeWarning: invalid value encountered in sqrt\n",
      "  IV = np.sqrt(svi_model(theta, k_new, ttm) / ttm)\n"
     ]
    },
    {
     "name": "stdout",
     "output_type": "stream",
     "text": [
      "NaN values found in IV for IV_matrix_2018-05-03.csv.\n"
     ]
    },
    {
     "name": "stderr",
     "output_type": "stream",
     "text": [
      "C:\\Users\\Guti\\AppData\\Local\\Temp\\ipykernel_42152\\840179055.py:38: RuntimeWarning: invalid value encountered in sqrt\n",
      "  IV = np.sqrt(svi_model(theta, k_new, ttm) / ttm)\n",
      "C:\\Users\\Guti\\AppData\\Local\\Temp\\ipykernel_42152\\840179055.py:38: RuntimeWarning: invalid value encountered in sqrt\n",
      "  IV = np.sqrt(svi_model(theta, k_new, ttm) / ttm)\n"
     ]
    },
    {
     "name": "stdout",
     "output_type": "stream",
     "text": [
      "NaN values found in IV for IV_matrix_2018-07-25.csv.\n",
      "NaN values found in IV for IV_matrix_2018-08-01.csv.\n"
     ]
    },
    {
     "name": "stderr",
     "output_type": "stream",
     "text": [
      "C:\\Users\\Guti\\AppData\\Local\\Temp\\ipykernel_42152\\840179055.py:38: RuntimeWarning: invalid value encountered in sqrt\n",
      "  IV = np.sqrt(svi_model(theta, k_new, ttm) / ttm)\n",
      "C:\\Users\\Guti\\AppData\\Local\\Temp\\ipykernel_42152\\840179055.py:38: RuntimeWarning: invalid value encountered in sqrt\n",
      "  IV = np.sqrt(svi_model(theta, k_new, ttm) / ttm)\n",
      "C:\\Users\\Guti\\AppData\\Local\\Temp\\ipykernel_42152\\840179055.py:38: RuntimeWarning: invalid value encountered in sqrt\n",
      "  IV = np.sqrt(svi_model(theta, k_new, ttm) / ttm)\n",
      "C:\\Users\\Guti\\AppData\\Local\\Temp\\ipykernel_42152\\840179055.py:38: RuntimeWarning: invalid value encountered in sqrt\n",
      "  IV = np.sqrt(svi_model(theta, k_new, ttm) / ttm)\n"
     ]
    },
    {
     "name": "stdout",
     "output_type": "stream",
     "text": [
      "NaN values found in IV for IV_matrix_2018-09-26.csv.\n",
      "NaN values found in IV for IV_matrix_2018-10-03.csv.\n",
      "NaN values found in IV for IV_matrix_2018-10-31.csv.\n",
      "NaN values found in IV for IV_matrix_2018-11-07.csv.\n",
      "<pandas.core.strings.accessor.StringMethods object at 0x000001B9EA691700>\n",
      "Interpolate IV for ttm 14.\n"
     ]
    },
    {
     "name": "stderr",
     "output_type": "stream",
     "text": [
      "C:\\Users\\Guti\\AppData\\Local\\Temp\\ipykernel_42152\\840179055.py:38: RuntimeWarning: invalid value encountered in sqrt\n",
      "  IV = np.sqrt(svi_model(theta, k_new, ttm) / ttm)\n"
     ]
    },
    {
     "name": "stdout",
     "output_type": "stream",
     "text": [
      "NaN values found in IV for IV_matrix_2017-08-29.csv.\n"
     ]
    },
    {
     "name": "stderr",
     "output_type": "stream",
     "text": [
      "C:\\Users\\Guti\\AppData\\Local\\Temp\\ipykernel_42152\\840179055.py:38: RuntimeWarning: invalid value encountered in sqrt\n",
      "  IV = np.sqrt(svi_model(theta, k_new, ttm) / ttm)\n",
      "C:\\Users\\Guti\\AppData\\Local\\Temp\\ipykernel_42152\\840179055.py:38: RuntimeWarning: invalid value encountered in sqrt\n",
      "  IV = np.sqrt(svi_model(theta, k_new, ttm) / ttm)\n"
     ]
    },
    {
     "name": "stdout",
     "output_type": "stream",
     "text": [
      "NaN values found in IV for IV_matrix_2018-07-25.csv.\n",
      "NaN values found in IV for IV_matrix_2018-08-01.csv.\n"
     ]
    },
    {
     "name": "stderr",
     "output_type": "stream",
     "text": [
      "C:\\Users\\Guti\\AppData\\Local\\Temp\\ipykernel_42152\\840179055.py:38: RuntimeWarning: invalid value encountered in sqrt\n",
      "  IV = np.sqrt(svi_model(theta, k_new, ttm) / ttm)\n",
      "C:\\Users\\Guti\\AppData\\Local\\Temp\\ipykernel_42152\\840179055.py:38: RuntimeWarning: invalid value encountered in sqrt\n",
      "  IV = np.sqrt(svi_model(theta, k_new, ttm) / ttm)\n",
      "C:\\Users\\Guti\\AppData\\Local\\Temp\\ipykernel_42152\\840179055.py:38: RuntimeWarning: invalid value encountered in sqrt\n",
      "  IV = np.sqrt(svi_model(theta, k_new, ttm) / ttm)\n",
      "C:\\Users\\Guti\\AppData\\Local\\Temp\\ipykernel_42152\\840179055.py:38: RuntimeWarning: invalid value encountered in sqrt\n",
      "  IV = np.sqrt(svi_model(theta, k_new, ttm) / ttm)\n"
     ]
    },
    {
     "name": "stdout",
     "output_type": "stream",
     "text": [
      "NaN values found in IV for IV_matrix_2018-09-26.csv.\n",
      "NaN values found in IV for IV_matrix_2018-10-03.csv.\n",
      "NaN values found in IV for IV_matrix_2018-10-31.csv.\n",
      "NaN values found in IV for IV_matrix_2018-11-07.csv.\n",
      "<pandas.core.strings.accessor.StringMethods object at 0x000001B9FAB93860>\n",
      "Interpolate IV for ttm 27.\n"
     ]
    },
    {
     "name": "stderr",
     "output_type": "stream",
     "text": [
      "C:\\Users\\Guti\\AppData\\Local\\Temp\\ipykernel_42152\\840179055.py:38: RuntimeWarning: invalid value encountered in sqrt\n",
      "  IV = np.sqrt(svi_model(theta, k_new, ttm) / ttm)\n",
      "C:\\Users\\Guti\\AppData\\Local\\Temp\\ipykernel_42152\\840179055.py:38: RuntimeWarning: invalid value encountered in sqrt\n",
      "  IV = np.sqrt(svi_model(theta, k_new, ttm) / ttm)\n",
      "C:\\Users\\Guti\\AppData\\Local\\Temp\\ipykernel_42152\\840179055.py:38: RuntimeWarning: invalid value encountered in sqrt\n",
      "  IV = np.sqrt(svi_model(theta, k_new, ttm) / ttm)\n",
      "C:\\Users\\Guti\\AppData\\Local\\Temp\\ipykernel_42152\\840179055.py:38: RuntimeWarning: invalid value encountered in sqrt\n",
      "  IV = np.sqrt(svi_model(theta, k_new, ttm) / ttm)\n"
     ]
    },
    {
     "name": "stdout",
     "output_type": "stream",
     "text": [
      "NaN values found in IV for IV_matrix_2022-11-10.csv.\n",
      "NaN values found in IV for IV_matrix_2022-11-13.csv.\n",
      "NaN values found in IV for IV_matrix_2022-11-14.csv.\n",
      "NaN values found in IV for IV_matrix_2022-11-15.csv.\n"
     ]
    },
    {
     "name": "stderr",
     "output_type": "stream",
     "text": [
      "C:\\Users\\Guti\\AppData\\Local\\Temp\\ipykernel_42152\\840179055.py:38: RuntimeWarning: invalid value encountered in sqrt\n",
      "  IV = np.sqrt(svi_model(theta, k_new, ttm) / ttm)\n",
      "C:\\Users\\Guti\\AppData\\Local\\Temp\\ipykernel_42152\\840179055.py:38: RuntimeWarning: invalid value encountered in sqrt\n",
      "  IV = np.sqrt(svi_model(theta, k_new, ttm) / ttm)\n",
      "C:\\Users\\Guti\\AppData\\Local\\Temp\\ipykernel_42152\\840179055.py:38: RuntimeWarning: invalid value encountered in sqrt\n",
      "  IV = np.sqrt(svi_model(theta, k_new, ttm) / ttm)\n"
     ]
    },
    {
     "name": "stdout",
     "output_type": "stream",
     "text": [
      "NaN values found in IV for IV_matrix_2022-11-20.csv.\n",
      "NaN values found in IV for IV_matrix_2022-11-22.csv.\n",
      "NaN values found in IV for IV_matrix_2022-11-28.csv.\n",
      "<pandas.core.strings.accessor.StringMethods object at 0x000001B9FAB98FB0>\n"
     ]
    }
   ],
   "source": [
    "R2_threshold = 0.8\n",
    "\n",
    "df1 = pd.read_csv('svi_iv_and_r2_results14b.csv')\n",
    "df2 = pd.read_csv('paras14b.csv')\n",
    "df1 = df1[df1['R2'] >= R2_threshold] # 0.97; 761 remain # 0.98; 21 remain\n",
    "paras = df2.loc[df1.index]\n",
    "paras.columns.values[0] = 'Date'\n",
    "\n",
    "print(paras.columns)\n",
    "paras.columns = paras.columns.str.strip()\n",
    "\n",
    "def svi_model(theta, k, tau):\n",
    "    base_params = np.array(theta[:5])\n",
    "    ttm_coeffs = np.array(theta[5:])\n",
    "    a, b, rho, m, sigma = base_params + ttm_coeffs * tau\n",
    "    return a + b * (rho * (k - m) + np.sqrt((k - m) ** 2 + sigma ** 2))\n",
    "\n",
    "\n",
    "#You have to change the range of k_new, if you want to have a different range. Maybe this is what you want Zijin:\n",
    "k_new = np.linspace(-1, 1, 2001)\n",
    "all_IVs = pd.DataFrame()\n",
    "all_IVs_list = []\n",
    "#ttms = list(range(3, 41))\n",
    "# Set to other ttms, if you want to have the IVs for other ttms.\n",
    "ttms = list([5, 9, 14, 27])  # or 9 9 , or 14 14 or 27 27\n",
    "\n",
    "for ttm in ttms:\n",
    "    print(f\"Interpolate IV for ttm {ttm}.\")\n",
    "    all_IVs = pd.DataFrame()  # Initialize an empty DataFrame for the current ttm\n",
    "\n",
    "    for file in paras['Date']:\n",
    "\n",
    "        #extracting thetas\n",
    "        theta = paras.loc[paras['Date'] == file]\n",
    "        theta = theta.drop(theta.columns[0], axis=1)\n",
    "        theta = np.squeeze(theta.values)\n",
    "\n",
    "        IV = np.sqrt(svi_model(theta, k_new, ttm) / ttm)\n",
    "\n",
    "        # Assuming IV is a list or array, convert IV into a dictionary with column names\n",
    "        IV_dict = {str(k): [iv] for k, iv in zip(k_new, IV)}\n",
    "        IV_dict['Date'] = file\n",
    "\n",
    "        # Convert dictionary to DataFrame\n",
    "        IV_df = pd.DataFrame(IV_dict)\n",
    "\n",
    "        # Check for NaN values\n",
    "        if IV_df.isna().any().any():\n",
    "            print(f\"NaN values found in IV for {file}.\")\n",
    "            continue\n",
    "\n",
    "        # Ensure 'Date' is the first column\n",
    "        cols = ['Date'] + [col for col in IV_df if col != 'Date']\n",
    "        IV_df = IV_df[cols]\n",
    "\n",
    "        # Append to the main DataFrame\n",
    "        all_IVs = pd.concat([all_IVs, IV_df], ignore_index=True)\n",
    "\n",
    "    print(all_IVs['Date'].str)\n",
    "    all_IVs['Date'] = all_IVs['Date'].str.extract(r'(\\d{4}-\\d{2}-\\d{2})')\n",
    "    all_IVs.to_csv(f'IR0/moneyness/interpolated_IV{ttm}_080.csv', index=False)\n",
    "\n",
    "    all_IVs_list.append(all_IVs)"
   ]
  },
  {
   "cell_type": "code",
   "execution_count": 5,
   "metadata": {},
   "outputs": [
    {
     "name": "stdout",
     "output_type": "stream",
     "text": [
      "Index(['Date', 'a', 'b', 'rho', 'm', 'sigma', 'a_ttm', 'b_ttm', 'rho_ttm',\n",
      "       'm_ttm', 'sigma_ttm'],\n",
      "      dtype='object')\n",
      "Interpolate IV for ttm 5.\n",
      "NaN values found in IV for IV_matrix_2017-08-14.csv.\n"
     ]
    },
    {
     "name": "stderr",
     "output_type": "stream",
     "text": [
      "C:\\Users\\Guti\\AppData\\Local\\Temp\\ipykernel_42152\\1215995090.py:38: RuntimeWarning: invalid value encountered in sqrt\n",
      "  IV = np.sqrt(svi_model(theta, k_new, ttm) / ttm)\n",
      "C:\\Users\\Guti\\AppData\\Local\\Temp\\ipykernel_42152\\1215995090.py:38: RuntimeWarning: invalid value encountered in sqrt\n",
      "  IV = np.sqrt(svi_model(theta, k_new, ttm) / ttm)\n"
     ]
    },
    {
     "name": "stdout",
     "output_type": "stream",
     "text": [
      "NaN values found in IV for IV_matrix_2017-09-08.csv.\n"
     ]
    },
    {
     "name": "stderr",
     "output_type": "stream",
     "text": [
      "C:\\Users\\Guti\\AppData\\Local\\Temp\\ipykernel_42152\\1215995090.py:38: RuntimeWarning: invalid value encountered in sqrt\n",
      "  IV = np.sqrt(svi_model(theta, k_new, ttm) / ttm)\n",
      "C:\\Users\\Guti\\AppData\\Local\\Temp\\ipykernel_42152\\1215995090.py:38: RuntimeWarning: invalid value encountered in sqrt\n",
      "  IV = np.sqrt(svi_model(theta, k_new, ttm) / ttm)\n",
      "C:\\Users\\Guti\\AppData\\Local\\Temp\\ipykernel_42152\\1215995090.py:38: RuntimeWarning: invalid value encountered in sqrt\n",
      "  IV = np.sqrt(svi_model(theta, k_new, ttm) / ttm)\n"
     ]
    },
    {
     "name": "stdout",
     "output_type": "stream",
     "text": [
      "NaN values found in IV for IV_matrix_2017-11-25.csv.\n",
      "NaN values found in IV for IV_matrix_2017-12-02.csv.\n",
      "NaN values found in IV for IV_matrix_2017-12-08.csv.\n"
     ]
    },
    {
     "name": "stderr",
     "output_type": "stream",
     "text": [
      "C:\\Users\\Guti\\AppData\\Local\\Temp\\ipykernel_42152\\1215995090.py:38: RuntimeWarning: invalid value encountered in sqrt\n",
      "  IV = np.sqrt(svi_model(theta, k_new, ttm) / ttm)\n"
     ]
    },
    {
     "name": "stdout",
     "output_type": "stream",
     "text": [
      "NaN values found in IV for IV_matrix_2017-12-15.csv.\n"
     ]
    },
    {
     "name": "stderr",
     "output_type": "stream",
     "text": [
      "C:\\Users\\Guti\\AppData\\Local\\Temp\\ipykernel_42152\\1215995090.py:38: RuntimeWarning: invalid value encountered in sqrt\n",
      "  IV = np.sqrt(svi_model(theta, k_new, ttm) / ttm)\n"
     ]
    },
    {
     "name": "stdout",
     "output_type": "stream",
     "text": [
      "NaN values found in IV for IV_matrix_2018-03-09.csv.\n"
     ]
    },
    {
     "name": "stderr",
     "output_type": "stream",
     "text": [
      "C:\\Users\\Guti\\AppData\\Local\\Temp\\ipykernel_42152\\1215995090.py:38: RuntimeWarning: invalid value encountered in sqrt\n",
      "  IV = np.sqrt(svi_model(theta, k_new, ttm) / ttm)\n",
      "C:\\Users\\Guti\\AppData\\Local\\Temp\\ipykernel_42152\\1215995090.py:38: RuntimeWarning: invalid value encountered in sqrt\n",
      "  IV = np.sqrt(svi_model(theta, k_new, ttm) / ttm)\n",
      "C:\\Users\\Guti\\AppData\\Local\\Temp\\ipykernel_42152\\1215995090.py:38: RuntimeWarning: invalid value encountered in sqrt\n",
      "  IV = np.sqrt(svi_model(theta, k_new, ttm) / ttm)\n"
     ]
    },
    {
     "name": "stdout",
     "output_type": "stream",
     "text": [
      "NaN values found in IV for IV_matrix_2018-05-03.csv.\n",
      "NaN values found in IV for IV_matrix_2018-05-16.csv.\n",
      "NaN values found in IV for IV_matrix_2018-05-24.csv.\n",
      "NaN values found in IV for IV_matrix_2018-05-25.csv.\n",
      "NaN values found in IV for IV_matrix_2018-06-08.csv.\n"
     ]
    },
    {
     "name": "stderr",
     "output_type": "stream",
     "text": [
      "C:\\Users\\Guti\\AppData\\Local\\Temp\\ipykernel_42152\\1215995090.py:38: RuntimeWarning: invalid value encountered in sqrt\n",
      "  IV = np.sqrt(svi_model(theta, k_new, ttm) / ttm)\n",
      "C:\\Users\\Guti\\AppData\\Local\\Temp\\ipykernel_42152\\1215995090.py:38: RuntimeWarning: invalid value encountered in sqrt\n",
      "  IV = np.sqrt(svi_model(theta, k_new, ttm) / ttm)\n",
      "C:\\Users\\Guti\\AppData\\Local\\Temp\\ipykernel_42152\\1215995090.py:38: RuntimeWarning: invalid value encountered in sqrt\n",
      "  IV = np.sqrt(svi_model(theta, k_new, ttm) / ttm)\n",
      "C:\\Users\\Guti\\AppData\\Local\\Temp\\ipykernel_42152\\1215995090.py:38: RuntimeWarning: invalid value encountered in sqrt\n",
      "  IV = np.sqrt(svi_model(theta, k_new, ttm) / ttm)\n",
      "C:\\Users\\Guti\\AppData\\Local\\Temp\\ipykernel_42152\\1215995090.py:38: RuntimeWarning: invalid value encountered in sqrt\n",
      "  IV = np.sqrt(svi_model(theta, k_new, ttm) / ttm)\n"
     ]
    },
    {
     "name": "stdout",
     "output_type": "stream",
     "text": [
      "NaN values found in IV for IV_matrix_2018-07-25.csv.\n",
      "NaN values found in IV for IV_matrix_2018-08-01.csv.\n",
      "NaN values found in IV for IV_matrix_2018-08-15.csv.\n"
     ]
    },
    {
     "name": "stderr",
     "output_type": "stream",
     "text": [
      "C:\\Users\\Guti\\AppData\\Local\\Temp\\ipykernel_42152\\1215995090.py:38: RuntimeWarning: invalid value encountered in sqrt\n",
      "  IV = np.sqrt(svi_model(theta, k_new, ttm) / ttm)\n",
      "C:\\Users\\Guti\\AppData\\Local\\Temp\\ipykernel_42152\\1215995090.py:38: RuntimeWarning: invalid value encountered in sqrt\n",
      "  IV = np.sqrt(svi_model(theta, k_new, ttm) / ttm)\n",
      "C:\\Users\\Guti\\AppData\\Local\\Temp\\ipykernel_42152\\1215995090.py:38: RuntimeWarning: invalid value encountered in sqrt\n",
      "  IV = np.sqrt(svi_model(theta, k_new, ttm) / ttm)\n",
      "C:\\Users\\Guti\\AppData\\Local\\Temp\\ipykernel_42152\\1215995090.py:38: RuntimeWarning: invalid value encountered in sqrt\n",
      "  IV = np.sqrt(svi_model(theta, k_new, ttm) / ttm)\n",
      "C:\\Users\\Guti\\AppData\\Local\\Temp\\ipykernel_42152\\1215995090.py:38: RuntimeWarning: invalid value encountered in sqrt\n",
      "  IV = np.sqrt(svi_model(theta, k_new, ttm) / ttm)\n"
     ]
    },
    {
     "name": "stdout",
     "output_type": "stream",
     "text": [
      "NaN values found in IV for IV_matrix_2018-09-26.csv.\n",
      "NaN values found in IV for IV_matrix_2018-09-27.csv.\n",
      "NaN values found in IV for IV_matrix_2018-10-03.csv.\n",
      "NaN values found in IV for IV_matrix_2018-10-04.csv.\n",
      "NaN values found in IV for IV_matrix_2018-10-11.csv.\n"
     ]
    },
    {
     "name": "stderr",
     "output_type": "stream",
     "text": [
      "C:\\Users\\Guti\\AppData\\Local\\Temp\\ipykernel_42152\\1215995090.py:38: RuntimeWarning: invalid value encountered in sqrt\n",
      "  IV = np.sqrt(svi_model(theta, k_new, ttm) / ttm)\n",
      "C:\\Users\\Guti\\AppData\\Local\\Temp\\ipykernel_42152\\1215995090.py:38: RuntimeWarning: invalid value encountered in sqrt\n",
      "  IV = np.sqrt(svi_model(theta, k_new, ttm) / ttm)\n"
     ]
    },
    {
     "name": "stdout",
     "output_type": "stream",
     "text": [
      "NaN values found in IV for IV_matrix_2018-10-31.csv.\n",
      "NaN values found in IV for IV_matrix_2018-11-07.csv.\n"
     ]
    },
    {
     "name": "stderr",
     "output_type": "stream",
     "text": [
      "C:\\Users\\Guti\\AppData\\Local\\Temp\\ipykernel_42152\\1215995090.py:38: RuntimeWarning: invalid value encountered in sqrt\n",
      "  IV = np.sqrt(svi_model(theta, k_new, ttm) / ttm)\n",
      "C:\\Users\\Guti\\AppData\\Local\\Temp\\ipykernel_42152\\1215995090.py:38: RuntimeWarning: invalid value encountered in sqrt\n",
      "  IV = np.sqrt(svi_model(theta, k_new, ttm) / ttm)\n",
      "C:\\Users\\Guti\\AppData\\Local\\Temp\\ipykernel_42152\\1215995090.py:38: RuntimeWarning: invalid value encountered in sqrt\n",
      "  IV = np.sqrt(svi_model(theta, k_new, ttm) / ttm)\n"
     ]
    },
    {
     "name": "stdout",
     "output_type": "stream",
     "text": [
      "NaN values found in IV for IV_matrix_2019-01-23.csv.\n",
      "NaN values found in IV for IV_matrix_2019-01-30.csv.\n",
      "NaN values found in IV for IV_matrix_2019-02-13.csv.\n"
     ]
    },
    {
     "name": "stderr",
     "output_type": "stream",
     "text": [
      "C:\\Users\\Guti\\AppData\\Local\\Temp\\ipykernel_42152\\1215995090.py:38: RuntimeWarning: invalid value encountered in sqrt\n",
      "  IV = np.sqrt(svi_model(theta, k_new, ttm) / ttm)\n"
     ]
    },
    {
     "name": "stdout",
     "output_type": "stream",
     "text": [
      "NaN values found in IV for IV_matrix_2019-09-04.csv.\n"
     ]
    },
    {
     "name": "stderr",
     "output_type": "stream",
     "text": [
      "C:\\Users\\Guti\\AppData\\Local\\Temp\\ipykernel_42152\\1215995090.py:38: RuntimeWarning: invalid value encountered in sqrt\n",
      "  IV = np.sqrt(svi_model(theta, k_new, ttm) / ttm)\n"
     ]
    },
    {
     "name": "stdout",
     "output_type": "stream",
     "text": [
      "NaN values found in IV for IV_matrix_2020-02-26.csv.\n"
     ]
    },
    {
     "name": "stderr",
     "output_type": "stream",
     "text": [
      "C:\\Users\\Guti\\AppData\\Local\\Temp\\ipykernel_42152\\1215995090.py:38: RuntimeWarning: invalid value encountered in sqrt\n",
      "  IV = np.sqrt(svi_model(theta, k_new, ttm) / ttm)\n"
     ]
    },
    {
     "name": "stdout",
     "output_type": "stream",
     "text": [
      "NaN values found in IV for IV_matrix_2022-10-12.csv.\n",
      "<pandas.core.strings.accessor.StringMethods object at 0x000001B9FAAE9EB0>\n",
      "Interpolate IV for ttm 9.\n"
     ]
    },
    {
     "name": "stderr",
     "output_type": "stream",
     "text": [
      "C:\\Users\\Guti\\AppData\\Local\\Temp\\ipykernel_42152\\1215995090.py:38: RuntimeWarning: invalid value encountered in sqrt\n",
      "  IV = np.sqrt(svi_model(theta, k_new, ttm) / ttm)\n"
     ]
    },
    {
     "name": "stdout",
     "output_type": "stream",
     "text": [
      "NaN values found in IV for IV_matrix_2017-08-29.csv.\n"
     ]
    },
    {
     "name": "stderr",
     "output_type": "stream",
     "text": [
      "C:\\Users\\Guti\\AppData\\Local\\Temp\\ipykernel_42152\\1215995090.py:38: RuntimeWarning: invalid value encountered in sqrt\n",
      "  IV = np.sqrt(svi_model(theta, k_new, ttm) / ttm)\n"
     ]
    },
    {
     "name": "stdout",
     "output_type": "stream",
     "text": [
      "NaN values found in IV for IV_matrix_2018-05-03.csv.\n"
     ]
    },
    {
     "name": "stderr",
     "output_type": "stream",
     "text": [
      "C:\\Users\\Guti\\AppData\\Local\\Temp\\ipykernel_42152\\1215995090.py:38: RuntimeWarning: invalid value encountered in sqrt\n",
      "  IV = np.sqrt(svi_model(theta, k_new, ttm) / ttm)\n",
      "C:\\Users\\Guti\\AppData\\Local\\Temp\\ipykernel_42152\\1215995090.py:38: RuntimeWarning: invalid value encountered in sqrt\n",
      "  IV = np.sqrt(svi_model(theta, k_new, ttm) / ttm)\n"
     ]
    },
    {
     "name": "stdout",
     "output_type": "stream",
     "text": [
      "NaN values found in IV for IV_matrix_2018-07-25.csv.\n",
      "NaN values found in IV for IV_matrix_2018-08-01.csv.\n"
     ]
    },
    {
     "name": "stderr",
     "output_type": "stream",
     "text": [
      "C:\\Users\\Guti\\AppData\\Local\\Temp\\ipykernel_42152\\1215995090.py:38: RuntimeWarning: invalid value encountered in sqrt\n",
      "  IV = np.sqrt(svi_model(theta, k_new, ttm) / ttm)\n",
      "C:\\Users\\Guti\\AppData\\Local\\Temp\\ipykernel_42152\\1215995090.py:38: RuntimeWarning: invalid value encountered in sqrt\n",
      "  IV = np.sqrt(svi_model(theta, k_new, ttm) / ttm)\n"
     ]
    },
    {
     "name": "stdout",
     "output_type": "stream",
     "text": [
      "NaN values found in IV for IV_matrix_2018-09-26.csv.\n",
      "NaN values found in IV for IV_matrix_2018-10-03.csv.\n"
     ]
    },
    {
     "name": "stderr",
     "output_type": "stream",
     "text": [
      "C:\\Users\\Guti\\AppData\\Local\\Temp\\ipykernel_42152\\1215995090.py:38: RuntimeWarning: invalid value encountered in sqrt\n",
      "  IV = np.sqrt(svi_model(theta, k_new, ttm) / ttm)\n",
      "C:\\Users\\Guti\\AppData\\Local\\Temp\\ipykernel_42152\\1215995090.py:38: RuntimeWarning: invalid value encountered in sqrt\n",
      "  IV = np.sqrt(svi_model(theta, k_new, ttm) / ttm)\n"
     ]
    },
    {
     "name": "stdout",
     "output_type": "stream",
     "text": [
      "NaN values found in IV for IV_matrix_2018-10-31.csv.\n",
      "NaN values found in IV for IV_matrix_2018-11-07.csv.\n"
     ]
    },
    {
     "name": "stderr",
     "output_type": "stream",
     "text": [
      "C:\\Users\\Guti\\AppData\\Local\\Temp\\ipykernel_42152\\1215995090.py:38: RuntimeWarning: invalid value encountered in sqrt\n",
      "  IV = np.sqrt(svi_model(theta, k_new, ttm) / ttm)\n"
     ]
    },
    {
     "name": "stdout",
     "output_type": "stream",
     "text": [
      "NaN values found in IV for IV_matrix_2019-01-23.csv.\n",
      "<pandas.core.strings.accessor.StringMethods object at 0x000001B9FABA9A60>\n",
      "Interpolate IV for ttm 14.\n"
     ]
    },
    {
     "name": "stderr",
     "output_type": "stream",
     "text": [
      "C:\\Users\\Guti\\AppData\\Local\\Temp\\ipykernel_42152\\1215995090.py:38: RuntimeWarning: invalid value encountered in sqrt\n",
      "  IV = np.sqrt(svi_model(theta, k_new, ttm) / ttm)\n"
     ]
    },
    {
     "name": "stdout",
     "output_type": "stream",
     "text": [
      "NaN values found in IV for IV_matrix_2017-08-29.csv.\n"
     ]
    },
    {
     "name": "stderr",
     "output_type": "stream",
     "text": [
      "C:\\Users\\Guti\\AppData\\Local\\Temp\\ipykernel_42152\\1215995090.py:38: RuntimeWarning: invalid value encountered in sqrt\n",
      "  IV = np.sqrt(svi_model(theta, k_new, ttm) / ttm)\n",
      "C:\\Users\\Guti\\AppData\\Local\\Temp\\ipykernel_42152\\1215995090.py:38: RuntimeWarning: invalid value encountered in sqrt\n",
      "  IV = np.sqrt(svi_model(theta, k_new, ttm) / ttm)\n"
     ]
    },
    {
     "name": "stdout",
     "output_type": "stream",
     "text": [
      "NaN values found in IV for IV_matrix_2018-07-25.csv.\n",
      "NaN values found in IV for IV_matrix_2018-08-01.csv.\n"
     ]
    },
    {
     "name": "stderr",
     "output_type": "stream",
     "text": [
      "C:\\Users\\Guti\\AppData\\Local\\Temp\\ipykernel_42152\\1215995090.py:38: RuntimeWarning: invalid value encountered in sqrt\n",
      "  IV = np.sqrt(svi_model(theta, k_new, ttm) / ttm)\n",
      "C:\\Users\\Guti\\AppData\\Local\\Temp\\ipykernel_42152\\1215995090.py:38: RuntimeWarning: invalid value encountered in sqrt\n",
      "  IV = np.sqrt(svi_model(theta, k_new, ttm) / ttm)\n"
     ]
    },
    {
     "name": "stdout",
     "output_type": "stream",
     "text": [
      "NaN values found in IV for IV_matrix_2018-09-26.csv.\n",
      "NaN values found in IV for IV_matrix_2018-10-03.csv.\n"
     ]
    },
    {
     "name": "stderr",
     "output_type": "stream",
     "text": [
      "C:\\Users\\Guti\\AppData\\Local\\Temp\\ipykernel_42152\\1215995090.py:38: RuntimeWarning: invalid value encountered in sqrt\n",
      "  IV = np.sqrt(svi_model(theta, k_new, ttm) / ttm)\n",
      "C:\\Users\\Guti\\AppData\\Local\\Temp\\ipykernel_42152\\1215995090.py:38: RuntimeWarning: invalid value encountered in sqrt\n",
      "  IV = np.sqrt(svi_model(theta, k_new, ttm) / ttm)\n"
     ]
    },
    {
     "name": "stdout",
     "output_type": "stream",
     "text": [
      "NaN values found in IV for IV_matrix_2018-10-31.csv.\n",
      "NaN values found in IV for IV_matrix_2018-11-07.csv.\n"
     ]
    },
    {
     "name": "stderr",
     "output_type": "stream",
     "text": [
      "C:\\Users\\Guti\\AppData\\Local\\Temp\\ipykernel_42152\\1215995090.py:38: RuntimeWarning: invalid value encountered in sqrt\n",
      "  IV = np.sqrt(svi_model(theta, k_new, ttm) / ttm)\n"
     ]
    },
    {
     "name": "stdout",
     "output_type": "stream",
     "text": [
      "NaN values found in IV for IV_matrix_2019-01-23.csv.\n",
      "<pandas.core.strings.accessor.StringMethods object at 0x000001B9FAA11F70>\n",
      "Interpolate IV for ttm 27.\n"
     ]
    },
    {
     "name": "stderr",
     "output_type": "stream",
     "text": [
      "C:\\Users\\Guti\\AppData\\Local\\Temp\\ipykernel_42152\\1215995090.py:38: RuntimeWarning: invalid value encountered in sqrt\n",
      "  IV = np.sqrt(svi_model(theta, k_new, ttm) / ttm)\n",
      "C:\\Users\\Guti\\AppData\\Local\\Temp\\ipykernel_42152\\1215995090.py:38: RuntimeWarning: invalid value encountered in sqrt\n",
      "  IV = np.sqrt(svi_model(theta, k_new, ttm) / ttm)\n",
      "C:\\Users\\Guti\\AppData\\Local\\Temp\\ipykernel_42152\\1215995090.py:38: RuntimeWarning: invalid value encountered in sqrt\n",
      "  IV = np.sqrt(svi_model(theta, k_new, ttm) / ttm)\n",
      "C:\\Users\\Guti\\AppData\\Local\\Temp\\ipykernel_42152\\1215995090.py:38: RuntimeWarning: invalid value encountered in sqrt\n",
      "  IV = np.sqrt(svi_model(theta, k_new, ttm) / ttm)\n"
     ]
    },
    {
     "name": "stdout",
     "output_type": "stream",
     "text": [
      "NaN values found in IV for IV_matrix_2022-11-10.csv.\n",
      "NaN values found in IV for IV_matrix_2022-11-13.csv.\n",
      "NaN values found in IV for IV_matrix_2022-11-14.csv.\n",
      "NaN values found in IV for IV_matrix_2022-11-15.csv.\n"
     ]
    },
    {
     "name": "stderr",
     "output_type": "stream",
     "text": [
      "C:\\Users\\Guti\\AppData\\Local\\Temp\\ipykernel_42152\\1215995090.py:38: RuntimeWarning: invalid value encountered in sqrt\n",
      "  IV = np.sqrt(svi_model(theta, k_new, ttm) / ttm)\n",
      "C:\\Users\\Guti\\AppData\\Local\\Temp\\ipykernel_42152\\1215995090.py:38: RuntimeWarning: invalid value encountered in sqrt\n",
      "  IV = np.sqrt(svi_model(theta, k_new, ttm) / ttm)\n",
      "C:\\Users\\Guti\\AppData\\Local\\Temp\\ipykernel_42152\\1215995090.py:38: RuntimeWarning: invalid value encountered in sqrt\n",
      "  IV = np.sqrt(svi_model(theta, k_new, ttm) / ttm)\n"
     ]
    },
    {
     "name": "stdout",
     "output_type": "stream",
     "text": [
      "NaN values found in IV for IV_matrix_2022-11-20.csv.\n",
      "NaN values found in IV for IV_matrix_2022-11-22.csv.\n",
      "NaN values found in IV for IV_matrix_2022-11-28.csv.\n",
      "<pandas.core.strings.accessor.StringMethods object at 0x000001B9FAA3D730>\n"
     ]
    }
   ],
   "source": [
    "R2_threshold = 0.7\n",
    "\n",
    "df1 = pd.read_csv('svi_iv_and_r2_results14b.csv')\n",
    "df2 = pd.read_csv('paras14b.csv')\n",
    "df1 = df1[df1['R2'] >= R2_threshold] # 0.97; 761 remain # 0.98; 21 remain\n",
    "paras = df2.loc[df1.index]\n",
    "paras.columns.values[0] = 'Date'\n",
    "\n",
    "print(paras.columns)\n",
    "paras.columns = paras.columns.str.strip()\n",
    "\n",
    "def svi_model(theta, k, tau):\n",
    "    base_params = np.array(theta[:5])\n",
    "    ttm_coeffs = np.array(theta[5:])\n",
    "    a, b, rho, m, sigma = base_params + ttm_coeffs * tau\n",
    "    return a + b * (rho * (k - m) + np.sqrt((k - m) ** 2 + sigma ** 2))\n",
    "\n",
    "\n",
    "#You have to change the range of k_new, if you want to have a different range. Maybe this is what you want Zijin:\n",
    "k_new = np.linspace(-1, 1, 2001)\n",
    "all_IVs = pd.DataFrame()\n",
    "all_IVs_list = []\n",
    "#ttms = list(range(3, 41))\n",
    "# Set to other ttms, if you want to have the IVs for other ttms.\n",
    "ttms = list([5, 9, 14, 27])  # or 9 9 , or 14 14 or 27 27\n",
    "\n",
    "for ttm in ttms:\n",
    "    print(f\"Interpolate IV for ttm {ttm}.\")\n",
    "    all_IVs = pd.DataFrame()  # Initialize an empty DataFrame for the current ttm\n",
    "\n",
    "    for file in paras['Date']:\n",
    "\n",
    "        #extracting thetas\n",
    "        theta = paras.loc[paras['Date'] == file]\n",
    "        theta = theta.drop(theta.columns[0], axis=1)\n",
    "        theta = np.squeeze(theta.values)\n",
    "\n",
    "        IV = np.sqrt(svi_model(theta, k_new, ttm) / ttm)\n",
    "\n",
    "        # Assuming IV is a list or array, convert IV into a dictionary with column names\n",
    "        IV_dict = {str(k): [iv] for k, iv in zip(k_new, IV)}\n",
    "        IV_dict['Date'] = file\n",
    "\n",
    "        # Convert dictionary to DataFrame\n",
    "        IV_df = pd.DataFrame(IV_dict)\n",
    "\n",
    "        # Check for NaN values\n",
    "        if IV_df.isna().any().any():\n",
    "            print(f\"NaN values found in IV for {file}.\")\n",
    "            continue\n",
    "\n",
    "        # Ensure 'Date' is the first column\n",
    "        cols = ['Date'] + [col for col in IV_df if col != 'Date']\n",
    "        IV_df = IV_df[cols]\n",
    "\n",
    "        # Append to the main DataFrame\n",
    "        all_IVs = pd.concat([all_IVs, IV_df], ignore_index=True)\n",
    "\n",
    "    print(all_IVs['Date'].str)\n",
    "    all_IVs['Date'] = all_IVs['Date'].str.extract(r'(\\d{4}-\\d{2}-\\d{2})')\n",
    "    all_IVs.to_csv(f'IR0/moneyness/interpolated_IV{ttm}_070.csv', index=False)\n",
    "\n",
    "    all_IVs_list.append(all_IVs)"
   ]
  },
  {
   "cell_type": "code",
   "execution_count": 6,
   "metadata": {},
   "outputs": [
    {
     "name": "stdout",
     "output_type": "stream",
     "text": [
      "Index(['Date', 'a', 'b', 'rho', 'm', 'sigma', 'a_ttm', 'b_ttm', 'rho_ttm',\n",
      "       'm_ttm', 'sigma_ttm'],\n",
      "      dtype='object')\n",
      "Interpolate IV for ttm 5.\n",
      "NaN values found in IV for IV_matrix_2017-08-14.csv.\n"
     ]
    },
    {
     "name": "stderr",
     "output_type": "stream",
     "text": [
      "C:\\Users\\Guti\\AppData\\Local\\Temp\\ipykernel_42152\\3482127528.py:38: RuntimeWarning: invalid value encountered in sqrt\n",
      "  IV = np.sqrt(svi_model(theta, k_new, ttm) / ttm)\n",
      "C:\\Users\\Guti\\AppData\\Local\\Temp\\ipykernel_42152\\3482127528.py:38: RuntimeWarning: invalid value encountered in sqrt\n",
      "  IV = np.sqrt(svi_model(theta, k_new, ttm) / ttm)\n"
     ]
    },
    {
     "name": "stdout",
     "output_type": "stream",
     "text": [
      "NaN values found in IV for IV_matrix_2017-09-08.csv.\n"
     ]
    },
    {
     "name": "stderr",
     "output_type": "stream",
     "text": [
      "C:\\Users\\Guti\\AppData\\Local\\Temp\\ipykernel_42152\\3482127528.py:38: RuntimeWarning: invalid value encountered in sqrt\n",
      "  IV = np.sqrt(svi_model(theta, k_new, ttm) / ttm)\n",
      "C:\\Users\\Guti\\AppData\\Local\\Temp\\ipykernel_42152\\3482127528.py:38: RuntimeWarning: invalid value encountered in sqrt\n",
      "  IV = np.sqrt(svi_model(theta, k_new, ttm) / ttm)\n",
      "C:\\Users\\Guti\\AppData\\Local\\Temp\\ipykernel_42152\\3482127528.py:38: RuntimeWarning: invalid value encountered in sqrt\n",
      "  IV = np.sqrt(svi_model(theta, k_new, ttm) / ttm)\n"
     ]
    },
    {
     "name": "stdout",
     "output_type": "stream",
     "text": [
      "NaN values found in IV for IV_matrix_2017-11-25.csv.\n",
      "NaN values found in IV for IV_matrix_2017-12-02.csv.\n",
      "NaN values found in IV for IV_matrix_2017-12-08.csv.\n",
      "NaN values found in IV for IV_matrix_2017-12-15.csv.\n"
     ]
    },
    {
     "name": "stderr",
     "output_type": "stream",
     "text": [
      "C:\\Users\\Guti\\AppData\\Local\\Temp\\ipykernel_42152\\3482127528.py:38: RuntimeWarning: invalid value encountered in sqrt\n",
      "  IV = np.sqrt(svi_model(theta, k_new, ttm) / ttm)\n",
      "C:\\Users\\Guti\\AppData\\Local\\Temp\\ipykernel_42152\\3482127528.py:38: RuntimeWarning: invalid value encountered in sqrt\n",
      "  IV = np.sqrt(svi_model(theta, k_new, ttm) / ttm)\n"
     ]
    },
    {
     "name": "stdout",
     "output_type": "stream",
     "text": [
      "NaN values found in IV for IV_matrix_2018-03-09.csv.\n"
     ]
    },
    {
     "name": "stderr",
     "output_type": "stream",
     "text": [
      "C:\\Users\\Guti\\AppData\\Local\\Temp\\ipykernel_42152\\3482127528.py:38: RuntimeWarning: invalid value encountered in sqrt\n",
      "  IV = np.sqrt(svi_model(theta, k_new, ttm) / ttm)\n",
      "C:\\Users\\Guti\\AppData\\Local\\Temp\\ipykernel_42152\\3482127528.py:38: RuntimeWarning: invalid value encountered in sqrt\n",
      "  IV = np.sqrt(svi_model(theta, k_new, ttm) / ttm)\n"
     ]
    },
    {
     "name": "stdout",
     "output_type": "stream",
     "text": [
      "NaN values found in IV for IV_matrix_2018-05-03.csv.\n",
      "NaN values found in IV for IV_matrix_2018-05-16.csv.\n"
     ]
    },
    {
     "name": "stderr",
     "output_type": "stream",
     "text": [
      "C:\\Users\\Guti\\AppData\\Local\\Temp\\ipykernel_42152\\3482127528.py:38: RuntimeWarning: invalid value encountered in sqrt\n",
      "  IV = np.sqrt(svi_model(theta, k_new, ttm) / ttm)\n",
      "C:\\Users\\Guti\\AppData\\Local\\Temp\\ipykernel_42152\\3482127528.py:38: RuntimeWarning: invalid value encountered in sqrt\n",
      "  IV = np.sqrt(svi_model(theta, k_new, ttm) / ttm)\n",
      "C:\\Users\\Guti\\AppData\\Local\\Temp\\ipykernel_42152\\3482127528.py:38: RuntimeWarning: invalid value encountered in sqrt\n",
      "  IV = np.sqrt(svi_model(theta, k_new, ttm) / ttm)\n"
     ]
    },
    {
     "name": "stdout",
     "output_type": "stream",
     "text": [
      "NaN values found in IV for IV_matrix_2018-05-24.csv.\n",
      "NaN values found in IV for IV_matrix_2018-05-25.csv.\n",
      "NaN values found in IV for IV_matrix_2018-06-08.csv.\n"
     ]
    },
    {
     "name": "stderr",
     "output_type": "stream",
     "text": [
      "C:\\Users\\Guti\\AppData\\Local\\Temp\\ipykernel_42152\\3482127528.py:38: RuntimeWarning: invalid value encountered in sqrt\n",
      "  IV = np.sqrt(svi_model(theta, k_new, ttm) / ttm)\n",
      "C:\\Users\\Guti\\AppData\\Local\\Temp\\ipykernel_42152\\3482127528.py:38: RuntimeWarning: invalid value encountered in sqrt\n",
      "  IV = np.sqrt(svi_model(theta, k_new, ttm) / ttm)\n"
     ]
    },
    {
     "name": "stdout",
     "output_type": "stream",
     "text": [
      "NaN values found in IV for IV_matrix_2018-07-25.csv.\n",
      "NaN values found in IV for IV_matrix_2018-08-01.csv.\n"
     ]
    },
    {
     "name": "stderr",
     "output_type": "stream",
     "text": [
      "C:\\Users\\Guti\\AppData\\Local\\Temp\\ipykernel_42152\\3482127528.py:38: RuntimeWarning: invalid value encountered in sqrt\n",
      "  IV = np.sqrt(svi_model(theta, k_new, ttm) / ttm)\n"
     ]
    },
    {
     "name": "stdout",
     "output_type": "stream",
     "text": [
      "NaN values found in IV for IV_matrix_2018-08-15.csv.\n"
     ]
    },
    {
     "name": "stderr",
     "output_type": "stream",
     "text": [
      "C:\\Users\\Guti\\AppData\\Local\\Temp\\ipykernel_42152\\3482127528.py:38: RuntimeWarning: invalid value encountered in sqrt\n",
      "  IV = np.sqrt(svi_model(theta, k_new, ttm) / ttm)\n",
      "C:\\Users\\Guti\\AppData\\Local\\Temp\\ipykernel_42152\\3482127528.py:38: RuntimeWarning: invalid value encountered in sqrt\n",
      "  IV = np.sqrt(svi_model(theta, k_new, ttm) / ttm)\n",
      "C:\\Users\\Guti\\AppData\\Local\\Temp\\ipykernel_42152\\3482127528.py:38: RuntimeWarning: invalid value encountered in sqrt\n",
      "  IV = np.sqrt(svi_model(theta, k_new, ttm) / ttm)\n",
      "C:\\Users\\Guti\\AppData\\Local\\Temp\\ipykernel_42152\\3482127528.py:38: RuntimeWarning: invalid value encountered in sqrt\n",
      "  IV = np.sqrt(svi_model(theta, k_new, ttm) / ttm)\n",
      "C:\\Users\\Guti\\AppData\\Local\\Temp\\ipykernel_42152\\3482127528.py:38: RuntimeWarning: invalid value encountered in sqrt\n",
      "  IV = np.sqrt(svi_model(theta, k_new, ttm) / ttm)\n"
     ]
    },
    {
     "name": "stdout",
     "output_type": "stream",
     "text": [
      "NaN values found in IV for IV_matrix_2018-09-26.csv.\n",
      "NaN values found in IV for IV_matrix_2018-09-27.csv.\n",
      "NaN values found in IV for IV_matrix_2018-09-28.csv.\n",
      "NaN values found in IV for IV_matrix_2018-10-03.csv.\n",
      "NaN values found in IV for IV_matrix_2018-10-04.csv.\n"
     ]
    },
    {
     "name": "stderr",
     "output_type": "stream",
     "text": [
      "C:\\Users\\Guti\\AppData\\Local\\Temp\\ipykernel_42152\\3482127528.py:38: RuntimeWarning: invalid value encountered in sqrt\n",
      "  IV = np.sqrt(svi_model(theta, k_new, ttm) / ttm)\n",
      "C:\\Users\\Guti\\AppData\\Local\\Temp\\ipykernel_42152\\3482127528.py:38: RuntimeWarning: invalid value encountered in sqrt\n",
      "  IV = np.sqrt(svi_model(theta, k_new, ttm) / ttm)\n"
     ]
    },
    {
     "name": "stdout",
     "output_type": "stream",
     "text": [
      "NaN values found in IV for IV_matrix_2018-10-11.csv.\n",
      "NaN values found in IV for IV_matrix_2018-10-25.csv.\n"
     ]
    },
    {
     "name": "stderr",
     "output_type": "stream",
     "text": [
      "C:\\Users\\Guti\\AppData\\Local\\Temp\\ipykernel_42152\\3482127528.py:38: RuntimeWarning: invalid value encountered in sqrt\n",
      "  IV = np.sqrt(svi_model(theta, k_new, ttm) / ttm)\n",
      "C:\\Users\\Guti\\AppData\\Local\\Temp\\ipykernel_42152\\3482127528.py:38: RuntimeWarning: invalid value encountered in sqrt\n",
      "  IV = np.sqrt(svi_model(theta, k_new, ttm) / ttm)\n"
     ]
    },
    {
     "name": "stdout",
     "output_type": "stream",
     "text": [
      "NaN values found in IV for IV_matrix_2018-10-31.csv.\n",
      "NaN values found in IV for IV_matrix_2018-11-07.csv.\n"
     ]
    },
    {
     "name": "stderr",
     "output_type": "stream",
     "text": [
      "C:\\Users\\Guti\\AppData\\Local\\Temp\\ipykernel_42152\\3482127528.py:38: RuntimeWarning: invalid value encountered in sqrt\n",
      "  IV = np.sqrt(svi_model(theta, k_new, ttm) / ttm)\n",
      "C:\\Users\\Guti\\AppData\\Local\\Temp\\ipykernel_42152\\3482127528.py:38: RuntimeWarning: invalid value encountered in sqrt\n",
      "  IV = np.sqrt(svi_model(theta, k_new, ttm) / ttm)\n",
      "C:\\Users\\Guti\\AppData\\Local\\Temp\\ipykernel_42152\\3482127528.py:38: RuntimeWarning: invalid value encountered in sqrt\n",
      "  IV = np.sqrt(svi_model(theta, k_new, ttm) / ttm)\n"
     ]
    },
    {
     "name": "stdout",
     "output_type": "stream",
     "text": [
      "NaN values found in IV for IV_matrix_2019-01-23.csv.\n",
      "NaN values found in IV for IV_matrix_2019-01-30.csv.\n",
      "NaN values found in IV for IV_matrix_2019-02-13.csv.\n"
     ]
    },
    {
     "name": "stderr",
     "output_type": "stream",
     "text": [
      "C:\\Users\\Guti\\AppData\\Local\\Temp\\ipykernel_42152\\3482127528.py:38: RuntimeWarning: invalid value encountered in sqrt\n",
      "  IV = np.sqrt(svi_model(theta, k_new, ttm) / ttm)\n"
     ]
    },
    {
     "name": "stdout",
     "output_type": "stream",
     "text": [
      "NaN values found in IV for IV_matrix_2019-03-14.csv.\n"
     ]
    },
    {
     "name": "stderr",
     "output_type": "stream",
     "text": [
      "C:\\Users\\Guti\\AppData\\Local\\Temp\\ipykernel_42152\\3482127528.py:38: RuntimeWarning: invalid value encountered in sqrt\n",
      "  IV = np.sqrt(svi_model(theta, k_new, ttm) / ttm)\n"
     ]
    },
    {
     "name": "stdout",
     "output_type": "stream",
     "text": [
      "NaN values found in IV for IV_matrix_2019-05-09.csv.\n"
     ]
    },
    {
     "name": "stderr",
     "output_type": "stream",
     "text": [
      "C:\\Users\\Guti\\AppData\\Local\\Temp\\ipykernel_42152\\3482127528.py:38: RuntimeWarning: invalid value encountered in sqrt\n",
      "  IV = np.sqrt(svi_model(theta, k_new, ttm) / ttm)\n"
     ]
    },
    {
     "name": "stdout",
     "output_type": "stream",
     "text": [
      "NaN values found in IV for IV_matrix_2019-09-04.csv.\n"
     ]
    },
    {
     "name": "stderr",
     "output_type": "stream",
     "text": [
      "C:\\Users\\Guti\\AppData\\Local\\Temp\\ipykernel_42152\\3482127528.py:38: RuntimeWarning: invalid value encountered in sqrt\n",
      "  IV = np.sqrt(svi_model(theta, k_new, ttm) / ttm)\n",
      "C:\\Users\\Guti\\AppData\\Local\\Temp\\ipykernel_42152\\3482127528.py:38: RuntimeWarning: invalid value encountered in sqrt\n",
      "  IV = np.sqrt(svi_model(theta, k_new, ttm) / ttm)\n"
     ]
    },
    {
     "name": "stdout",
     "output_type": "stream",
     "text": [
      "NaN values found in IV for IV_matrix_2020-02-13.csv.\n",
      "NaN values found in IV for IV_matrix_2020-02-26.csv.\n"
     ]
    },
    {
     "name": "stderr",
     "output_type": "stream",
     "text": [
      "C:\\Users\\Guti\\AppData\\Local\\Temp\\ipykernel_42152\\3482127528.py:38: RuntimeWarning: invalid value encountered in sqrt\n",
      "  IV = np.sqrt(svi_model(theta, k_new, ttm) / ttm)\n"
     ]
    },
    {
     "name": "stdout",
     "output_type": "stream",
     "text": [
      "NaN values found in IV for IV_matrix_2020-08-12.csv.\n"
     ]
    },
    {
     "name": "stderr",
     "output_type": "stream",
     "text": [
      "C:\\Users\\Guti\\AppData\\Local\\Temp\\ipykernel_42152\\3482127528.py:38: RuntimeWarning: invalid value encountered in sqrt\n",
      "  IV = np.sqrt(svi_model(theta, k_new, ttm) / ttm)\n",
      "C:\\Users\\Guti\\AppData\\Local\\Temp\\ipykernel_42152\\3482127528.py:38: RuntimeWarning: invalid value encountered in sqrt\n",
      "  IV = np.sqrt(svi_model(theta, k_new, ttm) / ttm)\n"
     ]
    },
    {
     "name": "stdout",
     "output_type": "stream",
     "text": [
      "NaN values found in IV for IV_matrix_2020-09-09.csv.\n",
      "NaN values found in IV for IV_matrix_2020-09-12.csv.\n"
     ]
    },
    {
     "name": "stderr",
     "output_type": "stream",
     "text": [
      "C:\\Users\\Guti\\AppData\\Local\\Temp\\ipykernel_42152\\3482127528.py:38: RuntimeWarning: invalid value encountered in sqrt\n",
      "  IV = np.sqrt(svi_model(theta, k_new, ttm) / ttm)\n"
     ]
    },
    {
     "name": "stdout",
     "output_type": "stream",
     "text": [
      "NaN values found in IV for IV_matrix_2022-06-08.csv.\n"
     ]
    },
    {
     "name": "stderr",
     "output_type": "stream",
     "text": [
      "C:\\Users\\Guti\\AppData\\Local\\Temp\\ipykernel_42152\\3482127528.py:38: RuntimeWarning: invalid value encountered in sqrt\n",
      "  IV = np.sqrt(svi_model(theta, k_new, ttm) / ttm)\n",
      "C:\\Users\\Guti\\AppData\\Local\\Temp\\ipykernel_42152\\3482127528.py:38: RuntimeWarning: invalid value encountered in sqrt\n",
      "  IV = np.sqrt(svi_model(theta, k_new, ttm) / ttm)\n"
     ]
    },
    {
     "name": "stdout",
     "output_type": "stream",
     "text": [
      "NaN values found in IV for IV_matrix_2022-07-14.csv.\n",
      "NaN values found in IV for IV_matrix_2022-07-20.csv.\n"
     ]
    },
    {
     "name": "stderr",
     "output_type": "stream",
     "text": [
      "C:\\Users\\Guti\\AppData\\Local\\Temp\\ipykernel_42152\\3482127528.py:38: RuntimeWarning: invalid value encountered in sqrt\n",
      "  IV = np.sqrt(svi_model(theta, k_new, ttm) / ttm)\n"
     ]
    },
    {
     "name": "stdout",
     "output_type": "stream",
     "text": [
      "NaN values found in IV for IV_matrix_2022-10-12.csv.\n",
      "<pandas.core.strings.accessor.StringMethods object at 0x000001B9FAA12BD0>\n",
      "Interpolate IV for ttm 9.\n"
     ]
    },
    {
     "name": "stderr",
     "output_type": "stream",
     "text": [
      "C:\\Users\\Guti\\AppData\\Local\\Temp\\ipykernel_42152\\3482127528.py:38: RuntimeWarning: invalid value encountered in sqrt\n",
      "  IV = np.sqrt(svi_model(theta, k_new, ttm) / ttm)\n"
     ]
    },
    {
     "name": "stdout",
     "output_type": "stream",
     "text": [
      "NaN values found in IV for IV_matrix_2017-08-29.csv.\n"
     ]
    },
    {
     "name": "stderr",
     "output_type": "stream",
     "text": [
      "C:\\Users\\Guti\\AppData\\Local\\Temp\\ipykernel_42152\\3482127528.py:38: RuntimeWarning: invalid value encountered in sqrt\n",
      "  IV = np.sqrt(svi_model(theta, k_new, ttm) / ttm)\n"
     ]
    },
    {
     "name": "stdout",
     "output_type": "stream",
     "text": [
      "NaN values found in IV for IV_matrix_2018-05-03.csv.\n"
     ]
    },
    {
     "name": "stderr",
     "output_type": "stream",
     "text": [
      "C:\\Users\\Guti\\AppData\\Local\\Temp\\ipykernel_42152\\3482127528.py:38: RuntimeWarning: invalid value encountered in sqrt\n",
      "  IV = np.sqrt(svi_model(theta, k_new, ttm) / ttm)\n",
      "C:\\Users\\Guti\\AppData\\Local\\Temp\\ipykernel_42152\\3482127528.py:38: RuntimeWarning: invalid value encountered in sqrt\n",
      "  IV = np.sqrt(svi_model(theta, k_new, ttm) / ttm)\n"
     ]
    },
    {
     "name": "stdout",
     "output_type": "stream",
     "text": [
      "NaN values found in IV for IV_matrix_2018-07-25.csv.\n",
      "NaN values found in IV for IV_matrix_2018-08-01.csv.\n"
     ]
    },
    {
     "name": "stderr",
     "output_type": "stream",
     "text": [
      "C:\\Users\\Guti\\AppData\\Local\\Temp\\ipykernel_42152\\3482127528.py:38: RuntimeWarning: invalid value encountered in sqrt\n",
      "  IV = np.sqrt(svi_model(theta, k_new, ttm) / ttm)\n",
      "C:\\Users\\Guti\\AppData\\Local\\Temp\\ipykernel_42152\\3482127528.py:38: RuntimeWarning: invalid value encountered in sqrt\n",
      "  IV = np.sqrt(svi_model(theta, k_new, ttm) / ttm)\n"
     ]
    },
    {
     "name": "stdout",
     "output_type": "stream",
     "text": [
      "NaN values found in IV for IV_matrix_2018-09-26.csv.\n",
      "NaN values found in IV for IV_matrix_2018-10-03.csv.\n"
     ]
    },
    {
     "name": "stderr",
     "output_type": "stream",
     "text": [
      "C:\\Users\\Guti\\AppData\\Local\\Temp\\ipykernel_42152\\3482127528.py:38: RuntimeWarning: invalid value encountered in sqrt\n",
      "  IV = np.sqrt(svi_model(theta, k_new, ttm) / ttm)\n",
      "C:\\Users\\Guti\\AppData\\Local\\Temp\\ipykernel_42152\\3482127528.py:38: RuntimeWarning: invalid value encountered in sqrt\n",
      "  IV = np.sqrt(svi_model(theta, k_new, ttm) / ttm)\n"
     ]
    },
    {
     "name": "stdout",
     "output_type": "stream",
     "text": [
      "NaN values found in IV for IV_matrix_2018-10-31.csv.\n",
      "NaN values found in IV for IV_matrix_2018-11-07.csv.\n"
     ]
    },
    {
     "name": "stderr",
     "output_type": "stream",
     "text": [
      "C:\\Users\\Guti\\AppData\\Local\\Temp\\ipykernel_42152\\3482127528.py:38: RuntimeWarning: invalid value encountered in sqrt\n",
      "  IV = np.sqrt(svi_model(theta, k_new, ttm) / ttm)\n"
     ]
    },
    {
     "name": "stdout",
     "output_type": "stream",
     "text": [
      "NaN values found in IV for IV_matrix_2019-01-23.csv.\n",
      "<pandas.core.strings.accessor.StringMethods object at 0x000001B9FAB24440>\n",
      "Interpolate IV for ttm 14.\n"
     ]
    },
    {
     "name": "stderr",
     "output_type": "stream",
     "text": [
      "C:\\Users\\Guti\\AppData\\Local\\Temp\\ipykernel_42152\\3482127528.py:38: RuntimeWarning: invalid value encountered in sqrt\n",
      "  IV = np.sqrt(svi_model(theta, k_new, ttm) / ttm)\n"
     ]
    },
    {
     "name": "stdout",
     "output_type": "stream",
     "text": [
      "NaN values found in IV for IV_matrix_2017-08-29.csv.\n"
     ]
    },
    {
     "name": "stderr",
     "output_type": "stream",
     "text": [
      "C:\\Users\\Guti\\AppData\\Local\\Temp\\ipykernel_42152\\3482127528.py:38: RuntimeWarning: invalid value encountered in sqrt\n",
      "  IV = np.sqrt(svi_model(theta, k_new, ttm) / ttm)\n",
      "C:\\Users\\Guti\\AppData\\Local\\Temp\\ipykernel_42152\\3482127528.py:38: RuntimeWarning: invalid value encountered in sqrt\n",
      "  IV = np.sqrt(svi_model(theta, k_new, ttm) / ttm)\n"
     ]
    },
    {
     "name": "stdout",
     "output_type": "stream",
     "text": [
      "NaN values found in IV for IV_matrix_2018-07-25.csv.\n",
      "NaN values found in IV for IV_matrix_2018-08-01.csv.\n"
     ]
    },
    {
     "name": "stderr",
     "output_type": "stream",
     "text": [
      "C:\\Users\\Guti\\AppData\\Local\\Temp\\ipykernel_42152\\3482127528.py:38: RuntimeWarning: invalid value encountered in sqrt\n",
      "  IV = np.sqrt(svi_model(theta, k_new, ttm) / ttm)\n",
      "C:\\Users\\Guti\\AppData\\Local\\Temp\\ipykernel_42152\\3482127528.py:38: RuntimeWarning: invalid value encountered in sqrt\n",
      "  IV = np.sqrt(svi_model(theta, k_new, ttm) / ttm)\n"
     ]
    },
    {
     "name": "stdout",
     "output_type": "stream",
     "text": [
      "NaN values found in IV for IV_matrix_2018-09-26.csv.\n",
      "NaN values found in IV for IV_matrix_2018-10-03.csv.\n"
     ]
    },
    {
     "name": "stderr",
     "output_type": "stream",
     "text": [
      "C:\\Users\\Guti\\AppData\\Local\\Temp\\ipykernel_42152\\3482127528.py:38: RuntimeWarning: invalid value encountered in sqrt\n",
      "  IV = np.sqrt(svi_model(theta, k_new, ttm) / ttm)\n",
      "C:\\Users\\Guti\\AppData\\Local\\Temp\\ipykernel_42152\\3482127528.py:38: RuntimeWarning: invalid value encountered in sqrt\n",
      "  IV = np.sqrt(svi_model(theta, k_new, ttm) / ttm)\n"
     ]
    },
    {
     "name": "stdout",
     "output_type": "stream",
     "text": [
      "NaN values found in IV for IV_matrix_2018-10-31.csv.\n",
      "NaN values found in IV for IV_matrix_2018-11-07.csv.\n"
     ]
    },
    {
     "name": "stderr",
     "output_type": "stream",
     "text": [
      "C:\\Users\\Guti\\AppData\\Local\\Temp\\ipykernel_42152\\3482127528.py:38: RuntimeWarning: invalid value encountered in sqrt\n",
      "  IV = np.sqrt(svi_model(theta, k_new, ttm) / ttm)\n"
     ]
    },
    {
     "name": "stdout",
     "output_type": "stream",
     "text": [
      "NaN values found in IV for IV_matrix_2019-01-23.csv.\n",
      "<pandas.core.strings.accessor.StringMethods object at 0x000001B9F96A4BC0>\n",
      "Interpolate IV for ttm 27.\n"
     ]
    },
    {
     "name": "stderr",
     "output_type": "stream",
     "text": [
      "C:\\Users\\Guti\\AppData\\Local\\Temp\\ipykernel_42152\\3482127528.py:38: RuntimeWarning: invalid value encountered in sqrt\n",
      "  IV = np.sqrt(svi_model(theta, k_new, ttm) / ttm)\n",
      "C:\\Users\\Guti\\AppData\\Local\\Temp\\ipykernel_42152\\3482127528.py:38: RuntimeWarning: invalid value encountered in sqrt\n",
      "  IV = np.sqrt(svi_model(theta, k_new, ttm) / ttm)\n",
      "C:\\Users\\Guti\\AppData\\Local\\Temp\\ipykernel_42152\\3482127528.py:38: RuntimeWarning: invalid value encountered in sqrt\n",
      "  IV = np.sqrt(svi_model(theta, k_new, ttm) / ttm)\n",
      "C:\\Users\\Guti\\AppData\\Local\\Temp\\ipykernel_42152\\3482127528.py:38: RuntimeWarning: invalid value encountered in sqrt\n",
      "  IV = np.sqrt(svi_model(theta, k_new, ttm) / ttm)\n"
     ]
    },
    {
     "name": "stdout",
     "output_type": "stream",
     "text": [
      "NaN values found in IV for IV_matrix_2022-11-10.csv.\n",
      "NaN values found in IV for IV_matrix_2022-11-13.csv.\n",
      "NaN values found in IV for IV_matrix_2022-11-14.csv.\n",
      "NaN values found in IV for IV_matrix_2022-11-15.csv.\n"
     ]
    },
    {
     "name": "stderr",
     "output_type": "stream",
     "text": [
      "C:\\Users\\Guti\\AppData\\Local\\Temp\\ipykernel_42152\\3482127528.py:38: RuntimeWarning: invalid value encountered in sqrt\n",
      "  IV = np.sqrt(svi_model(theta, k_new, ttm) / ttm)\n",
      "C:\\Users\\Guti\\AppData\\Local\\Temp\\ipykernel_42152\\3482127528.py:38: RuntimeWarning: invalid value encountered in sqrt\n",
      "  IV = np.sqrt(svi_model(theta, k_new, ttm) / ttm)\n",
      "C:\\Users\\Guti\\AppData\\Local\\Temp\\ipykernel_42152\\3482127528.py:38: RuntimeWarning: invalid value encountered in sqrt\n",
      "  IV = np.sqrt(svi_model(theta, k_new, ttm) / ttm)\n"
     ]
    },
    {
     "name": "stdout",
     "output_type": "stream",
     "text": [
      "NaN values found in IV for IV_matrix_2022-11-20.csv.\n",
      "NaN values found in IV for IV_matrix_2022-11-22.csv.\n",
      "NaN values found in IV for IV_matrix_2022-11-28.csv.\n",
      "<pandas.core.strings.accessor.StringMethods object at 0x000001B9FA9F82F0>\n"
     ]
    }
   ],
   "source": [
    "R2_threshold = 0.6\n",
    "\n",
    "df1 = pd.read_csv('svi_iv_and_r2_results14b.csv')\n",
    "df2 = pd.read_csv('paras14b.csv')\n",
    "df1 = df1[df1['R2'] >= R2_threshold] # 0.97; 761 remain # 0.98; 21 remain\n",
    "paras = df2.loc[df1.index]\n",
    "paras.columns.values[0] = 'Date'\n",
    "\n",
    "print(paras.columns)\n",
    "paras.columns = paras.columns.str.strip()\n",
    "\n",
    "def svi_model(theta, k, tau):\n",
    "    base_params = np.array(theta[:5])\n",
    "    ttm_coeffs = np.array(theta[5:])\n",
    "    a, b, rho, m, sigma = base_params + ttm_coeffs * tau\n",
    "    return a + b * (rho * (k - m) + np.sqrt((k - m) ** 2 + sigma ** 2))\n",
    "\n",
    "\n",
    "#You have to change the range of k_new, if you want to have a different range. Maybe this is what you want Zijin:\n",
    "k_new = np.linspace(-1, 1, 2001)\n",
    "all_IVs = pd.DataFrame()\n",
    "all_IVs_list = []\n",
    "#ttms = list(range(3, 41))\n",
    "# Set to other ttms, if you want to have the IVs for other ttms.\n",
    "ttms = list([5, 9, 14, 27])  # or 9 9 , or 14 14 or 27 27\n",
    "\n",
    "for ttm in ttms:\n",
    "    print(f\"Interpolate IV for ttm {ttm}.\")\n",
    "    all_IVs = pd.DataFrame()  # Initialize an empty DataFrame for the current ttm\n",
    "\n",
    "    for file in paras['Date']:\n",
    "\n",
    "        #extracting thetas\n",
    "        theta = paras.loc[paras['Date'] == file]\n",
    "        theta = theta.drop(theta.columns[0], axis=1)\n",
    "        theta = np.squeeze(theta.values)\n",
    "\n",
    "        IV = np.sqrt(svi_model(theta, k_new, ttm) / ttm)\n",
    "\n",
    "        # Assuming IV is a list or array, convert IV into a dictionary with column names\n",
    "        IV_dict = {str(k): [iv] for k, iv in zip(k_new, IV)}\n",
    "        IV_dict['Date'] = file\n",
    "\n",
    "        # Convert dictionary to DataFrame\n",
    "        IV_df = pd.DataFrame(IV_dict)\n",
    "\n",
    "        # Check for NaN values\n",
    "        if IV_df.isna().any().any():\n",
    "            print(f\"NaN values found in IV for {file}.\")\n",
    "            continue\n",
    "\n",
    "        # Ensure 'Date' is the first column\n",
    "        cols = ['Date'] + [col for col in IV_df if col != 'Date']\n",
    "        IV_df = IV_df[cols]\n",
    "\n",
    "        # Append to the main DataFrame\n",
    "        all_IVs = pd.concat([all_IVs, IV_df], ignore_index=True)\n",
    "\n",
    "    print(all_IVs['Date'].str)\n",
    "    all_IVs['Date'] = all_IVs['Date'].str.extract(r'(\\d{4}-\\d{2}-\\d{2})')\n",
    "    all_IVs.to_csv(f'IR0/moneyness/interpolated_IV{ttm}_060.csv', index=False)\n",
    "\n",
    "    all_IVs_list.append(all_IVs)"
   ]
  },
  {
   "cell_type": "code",
   "execution_count": 8,
   "metadata": {},
   "outputs": [],
   "source": [
    "import os\n",
    "import pandas as pd\n",
    "\n",
    "r2_mapping = {\n",
    "    \"_098\": \"0.98\",\n",
    "    \"_095\": \"0.95\",\n",
    "    \"_090\": \"0.90\",\n",
    "    \"_080\": \"0.80\",\n",
    "    \"_070\": \"0.70\",\n",
    "    \"_060\": \"0.60\"\n",
    "}\n",
    "\n",
    "ttm_mapping = {\n",
    "    \"IV5\": \"ttm5\",\n",
    "    \"IV9\": \"ttm9\",\n",
    "    \"IV14\": \"ttm14\",\n",
    "    \"IV27\": \"ttm27\"\n",
    "}\n",
    "\n",
    "summary_table = []\n",
    "\n",
    "for filename in os.listdir(os.path.join(path, \"IR0\",\"moneyness\")):\n",
    "    if filename.endswith(\".csv\"):\n",
    "        # Extract the R2 and TTM values from the filename\n",
    "        r2_value = next((value for key, value in r2_mapping.items() if key in filename), None)\n",
    "        ttm_value = next((value for key, value in ttm_mapping.items() if key in filename), None)\n",
    "\n",
    "        # Skip files that don't match\n",
    "        if r2_value and ttm_value:\n",
    "            # Count the number of rows in the file\n",
    "            file_path = os.path.join(path, \"IR0\",\"moneyness\", filename)\n",
    "            num_rows = len(pd.read_csv(file_path))\n",
    "\n",
    "            # Append the data to the summary table\n",
    "            summary_table.append({\n",
    "                \"R2\": r2_value,\n",
    "                ttm_value: num_rows\n",
    "            })\n",
    "\n",
    "# Convert the summary table to a DataFrame\n",
    "summary_df = pd.DataFrame(summary_table)\n",
    "\n",
    "# Group by R2 and aggregate the counts\n",
    "final_summary = summary_df.groupby(\"R2\").sum().reset_index()\n",
    "\n",
    "# Reset the order of the columns and the rows\n",
    "final_summary = final_summary[[\"R2\"] + list(ttm_mapping.values())]\n",
    "final_summary = final_summary.sort_values(by=\"R2\", ascending=False).reset_index(drop=True)\n",
    "\n",
    "# save the final summary to a CSV file\n",
    "final_summary.to_csv(os.path.join(path, \"IR0_moneyness_summary.csv\"), index=False)    "
   ]
  },
  {
   "cell_type": "code",
   "execution_count": null,
   "metadata": {},
   "outputs": [],
   "source": []
  }
 ],
 "metadata": {
  "kernelspec": {
   "display_name": "Python 3",
   "language": "python",
   "name": "python3"
  },
  "language_info": {
   "codemirror_mode": {
    "name": "ipython",
    "version": 3
   },
   "file_extension": ".py",
   "mimetype": "text/x-python",
   "name": "python",
   "nbconvert_exporter": "python",
   "pygments_lexer": "ipython3",
   "version": "3.12.5"
  }
 },
 "nbformat": 4,
 "nbformat_minor": 2
}
